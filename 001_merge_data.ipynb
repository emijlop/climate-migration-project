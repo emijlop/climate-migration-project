{
 "cells": [
  {
   "cell_type": "code",
   "execution_count": 1,
   "metadata": {},
   "outputs": [],
   "source": [
    "import pandas as pd"
   ]
  },
  {
   "cell_type": "markdown",
   "metadata": {},
   "source": [
    "# Data Merge\n",
    "\n",
    "## Import\n",
    "\n",
    "As a first step, we import all our necessary datasets: \n",
    "\n",
    "- country indicators from (can't remember our source lol, @Matheus?)\n",
    "- inflation data from IFM to identify economically vulnerable countries\n",
    "- displaced people from IOM\n",
    "- climate data \n",
    "- data con climate catastrophes from EMDAT"
   ]
  },
  {
   "cell_type": "code",
   "execution_count": null,
   "metadata": {},
   "outputs": [
    {
     "ename": "",
     "evalue": "",
     "output_type": "error",
     "traceback": [
      "\u001b[1;31mnotebook controller is DISPOSED. \n",
      "\u001b[1;31mView Jupyter <a href='command:jupyter.viewOutput'>log</a> for further details."
     ]
    },
    {
     "ename": "",
     "evalue": "",
     "output_type": "error",
     "traceback": [
      "\u001b[1;31mnotebook controller is DISPOSED. \n",
      "\u001b[1;31mView Jupyter <a href='command:jupyter.viewOutput'>log</a> for further details."
     ]
    }
   ],
   "source": [
    "country_indicators_raw = pd.read_csv(\"data/environment_pop_data_all.csv\")\n",
    "inflation_data = pd.read_csv(\"data/economic/inflation_all_countries_sorted_cleaned.csv\")\n",
    "migration_data = pd.read_csv('data/migration/full_iom_dtm_data.csv')\n",
    "climate_data = pd.read_csv(r\"data\\climate_data\\ERA5_Monthly_Climate_Weather_FULL.csv\")\n",
    "emdat_cc_expanded = pd.read_excel('data/climate_catastrophes/emdat_full.xlsx') "
   ]
  },
  {
   "cell_type": "markdown",
   "metadata": {},
   "source": [
    "## Cleaning, processing and joining\n",
    "\n",
    "Next, we create some functions that will be useful for us: removal of columns with a really high number of NA's and standarization of headers. "
   ]
  },
  {
   "cell_type": "code",
   "execution_count": null,
   "metadata": {},
   "outputs": [
    {
     "ename": "",
     "evalue": "",
     "output_type": "error",
     "traceback": [
      "\u001b[1;31mnotebook controller is DISPOSED. \n",
      "\u001b[1;31mView Jupyter <a href='command:jupyter.viewOutput'>log</a> for further details."
     ]
    },
    {
     "ename": "",
     "evalue": "",
     "output_type": "error",
     "traceback": [
      "\u001b[1;31mnotebook controller is DISPOSED. \n",
      "\u001b[1;31mView Jupyter <a href='command:jupyter.viewOutput'>log</a> for further details."
     ]
    }
   ],
   "source": [
    "def standardize_headers(df, func=None):\n",
    "    df.columns = df.columns.str.replace(' ', '_').str.lower()\n",
    "    if func:\n",
    "      df = df.apply(func)\n",
    "    return df\n",
    "\n",
    "def remove_high_na_columns(df, threshold=0.3):\n",
    "    \"\"\"\n",
    "    Removes columns from a DataFrame if more than `threshold` proportion of values are NA or 0.\n",
    "    \n",
    "    Parameters:\n",
    "    df (pd.DataFrame): The input DataFrame.\n",
    "    threshold (float): The proportion of missing (or zero) values above which a column is removed.\n",
    "    \n",
    "    Returns:\n",
    "    pd.DataFrame: The cleaned DataFrame.\n",
    "    \"\"\"\n",
    "    # Treat 0s as NA\n",
    "    df_replaced = df.replace(0, pd.NA)\n",
    "    \n",
    "    # Compute the proportion of missing values per column\n",
    "    missing_ratio = df_replaced.isna().mean()\n",
    "    \n",
    "    # Keep columns where the missing ratio is below the threshold\n",
    "    return df.loc[:, missing_ratio <= threshold]"
   ]
  },
  {
   "cell_type": "markdown",
   "metadata": {},
   "source": [
    "We do preprocessing of the country indicators."
   ]
  },
  {
   "cell_type": "code",
   "execution_count": null,
   "metadata": {},
   "outputs": [
    {
     "ename": "",
     "evalue": "",
     "output_type": "error",
     "traceback": [
      "\u001b[1;31mnotebook controller is DISPOSED. \n",
      "\u001b[1;31mView Jupyter <a href='command:jupyter.viewOutput'>log</a> for further details."
     ]
    },
    {
     "ename": "",
     "evalue": "",
     "output_type": "error",
     "traceback": [
      "\u001b[1;31mnotebook controller is DISPOSED. \n",
      "\u001b[1;31mView Jupyter <a href='command:jupyter.viewOutput'>log</a> for further details."
     ]
    }
   ],
   "source": [
    "country_indicators_long = pd.melt(country_indicators_raw, id_vars= ['Country Code', 'Indicator Name', 'Indicator Code'], var_name = 'year')\n",
    "country_indicators_long[['year', 'value']] = country_indicators_long[['year', 'value']].apply(pd.to_numeric, errors='coerce')\n",
    "country_indicators_long = country_indicators_long[country_indicators_long['year'] > 2010]\n",
    "country_indicators_long.drop(columns = ['Indicator Name'], inplace=True)\n",
    "country_indicators = country_indicators_long.pivot_table(index=['Country Code', 'year'], columns='Indicator Code', values='value').reset_index()\n",
    "country_indicators = remove_high_na_columns(country_indicators)"
   ]
  },
  {
   "cell_type": "markdown",
   "metadata": {},
   "source": [
    "We do the preprocessing of the migration data."
   ]
  },
  {
   "cell_type": "code",
   "execution_count": null,
   "metadata": {},
   "outputs": [
    {
     "ename": "",
     "evalue": "",
     "output_type": "error",
     "traceback": [
      "\u001b[1;31mnotebook controller is DISPOSED. \n",
      "\u001b[1;31mView Jupyter <a href='command:jupyter.viewOutput'>log</a> for further details."
     ]
    },
    {
     "ename": "",
     "evalue": "",
     "output_type": "error",
     "traceback": [
      "\u001b[1;31mnotebook controller is DISPOSED. \n",
      "\u001b[1;31mView Jupyter <a href='command:jupyter.viewOutput'>log</a> for further details."
     ]
    }
   ],
   "source": [
    "migration_data['date'] = pd.to_datetime(migration_data['reportingDate'])\n",
    "migration_data['month'] = migration_data['date'].dt.month\n",
    "migration_data['year'] = migration_data['date'].dt.year\n",
    "\n",
    "# Define a more descriptive column mapping for the columns we want to keep\n",
    "column_mapping = {\n",
    "    'admin0Name': 'country_name',  # Keep country name\n",
    "    'admin0Pcode': 'country_code', # In case you need to map country codes to names\n",
    "    'numPresentIdpInd': 'internally_displaced_persons',\n",
    "    'date': 'date',\n",
    "    'year': 'year',\n",
    "    'month': 'month'\n",
    "    \n",
    "}\n",
    "\n",
    "# List of columns to keep (everything else will be dropped)\n",
    "columns_to_keep = list(column_mapping.keys())\n",
    "\n",
    "# Keep only the columns we need\n",
    "migration_data = migration_data[columns_to_keep]\n",
    "# Rename the columns\n",
    "migration_data.rename(columns=column_mapping, inplace=True)\n",
    "\n",
    "total_idps_per_month = migration_data[['year', 'month', 'country_name','country_code', 'internally_displaced_persons']].groupby(['year', 'month', 'country_name', 'country_code']).sum().reset_index()"
   ]
  },
  {
   "cell_type": "code",
   "execution_count": null,
   "metadata": {},
   "outputs": [
    {
     "ename": "",
     "evalue": "",
     "output_type": "error",
     "traceback": [
      "\u001b[1;31mnotebook controller is DISPOSED. \n",
      "\u001b[1;31mView Jupyter <a href='command:jupyter.viewOutput'>log</a> for further details."
     ]
    },
    {
     "ename": "",
     "evalue": "",
     "output_type": "error",
     "traceback": [
      "\u001b[1;31mnotebook controller is DISPOSED. \n",
      "\u001b[1;31mView Jupyter <a href='command:jupyter.viewOutput'>log</a> for further details."
     ]
    }
   ],
   "source": [
    "# extract year and month, and convert to numeric\n",
    "climate_data = standardize_headers(climate_data)\n",
    "\n",
    "climate_data['year'] = climate_data['date'].str.split('-').str[0].astype(int)\n",
    "climate_data['month'] = climate_data['date'].str.split('-').str[1].astype(int)\n",
    "\n",
    "climate_data.drop(columns=['date', 'system:time_start'], inplace=True)\n",
    "\n",
    "# Create a mapping dictionary for country names\n",
    "country_mapping = {\n",
    "    'Chad': 'Chad',\n",
    "    'Malawi': 'Malawi',\n",
    "    'Zambia': 'Zambia',\n",
    "    'Zimbabwe': 'Zimbabwe',\n",
    "    'Burundi': 'Burundi',\n",
    "    'South Africa': 'South Africa',\n",
    "    'Niger': 'Niger',\n",
    "    'Sudan': 'Sudan',\n",
    "    'Libya': 'Libya',\n",
    "    'Ethiopia': 'Ethiopia',\n",
    "    'Djibouti': 'Djibouti',\n",
    "    'Somalia': 'Somalia',\n",
    "    'South Sudan': 'South Sudan',\n",
    "    'Kenya': 'Kenya',\n",
    "    'Uganda': 'Uganda',\n",
    "    'Mozambique': 'Mozambique',\n",
    "    'Madagascar': 'Madagascar',\n",
    "    'Mali': 'Mali',\n",
    "    'Burkina Faso': 'Burkina Faso',\n",
    "    'Benin': 'Benin',\n",
    "    'Nigeria': 'Nigeria',\n",
    "    'Cameroon': 'Cameroon',\n",
    "    'Ukraine': 'Ukraine',\n",
    "    'Mongolia': 'Mongolia',\n",
    "    'Afghanistan': 'Afghanistan',\n",
    "    'Pakistan': 'Pakistan',\n",
    "    'Nepal': 'Nepal',\n",
    "    'Sri Lanka': 'Sri Lanka',  # or 'Sri lanka'\n",
    "    'Papua New Guinea': 'Papua New Guinea',\n",
    "    'Fiji': 'Fiji',\n",
    "    'Vanuatu': 'Vanuatu',\n",
    "    'Indonesia': 'Indonesia',\n",
    "    'Iraq': 'Iraq',\n",
    "    'Lebanon': 'Lebanon',\n",
    "    'Yemen': 'Yemen',\n",
    "    'Dominica': 'Dominica',\n",
    "    'Grenada': 'Grenada',\n",
    "    'Haiti': 'Haiti',\n",
    "    'Ecuador': 'Ecuador',\n",
    "    'Peru': 'Peru',\n",
    "    'El Salvador': 'El Salvador',\n",
    "    'Guatemala': 'Guatemala',\n",
    "    'Honduras': 'Honduras',\n",
    "    'Philippines': 'Philippines (the)',\n",
    "    'Laos': \"Lao People's Democratic Republic\",\n",
    "    'Armenia': 'Republic of Armenia',\n",
    "    'Syria': 'Syrian Arab Republic',\n",
    "    'Bolivia': 'Bolivia (Plurinational State of)',\n",
    "    'Democratic Republic of the Congo': 'Democratic Republic of the Congo',\n",
    "    'Central African Republic': 'Central African Republic',\n",
    "    'Antigua and Barbuda': 'Antigua and Barbuda',\n",
    "    'Bahamas': 'Bahamas (the)',\n",
    "    'Saint Vincent and the Grenadines': 'Saint Vincent and the Grenadines'\n",
    "}\n",
    "\n",
    "# Create a new column in climate_data with the mapped names\n",
    "climate_data['country_name'] = climate_data['country_na'].map(country_mapping)\n",
    "climate_data.drop(columns=['country_na'], inplace=True)"
   ]
  },
  {
   "cell_type": "markdown",
   "metadata": {},
   "source": [
    "We merge IDPs with climate data."
   ]
  },
  {
   "cell_type": "code",
   "execution_count": null,
   "metadata": {},
   "outputs": [
    {
     "ename": "",
     "evalue": "",
     "output_type": "error",
     "traceback": [
      "\u001b[1;31mnotebook controller is DISPOSED. \n",
      "\u001b[1;31mView Jupyter <a href='command:jupyter.viewOutput'>log</a> for further details."
     ]
    },
    {
     "ename": "",
     "evalue": "",
     "output_type": "error",
     "traceback": [
      "\u001b[1;31mnotebook controller is DISPOSED. \n",
      "\u001b[1;31mView Jupyter <a href='command:jupyter.viewOutput'>log</a> for further details."
     ]
    }
   ],
   "source": [
    "#Merge IDPs with climate data\n",
    "total_idps_per_month = pd.merge(total_idps_per_month, climate_data, how='left', \n",
    "                                on=['country_name', 'year', 'month'])"
   ]
  },
  {
   "cell_type": "markdown",
   "metadata": {},
   "source": [
    "We join the data on migration with the climate catastrophes, expanding so we can join the duration of the climate catastrophe of all numbers of displaced people per month."
   ]
  },
  {
   "cell_type": "code",
   "execution_count": null,
   "metadata": {},
   "outputs": [
    {
     "name": "stderr",
     "output_type": "stream",
     "text": [
      "C:\\Users\\LENOVO\\AppData\\Local\\Temp\\ipykernel_3520\\726183136.py:9: SettingWithCopyWarning: \n",
      "A value is trying to be set on a copy of a slice from a DataFrame.\n",
      "Try using .loc[row_indexer,col_indexer] = value instead\n",
      "\n",
      "See the caveats in the documentation: https://pandas.pydata.org/pandas-docs/stable/user_guide/indexing.html#returning-a-view-versus-a-copy\n",
      "  climate_catastrophes_data_subset[\"End Year\"] = climate_catastrophes_data_subset[\"End Year\"].fillna(climate_catastrophes_data_subset[\"Start Year\"])\n",
      "C:\\Users\\LENOVO\\AppData\\Local\\Temp\\ipykernel_3520\\726183136.py:10: SettingWithCopyWarning: \n",
      "A value is trying to be set on a copy of a slice from a DataFrame.\n",
      "Try using .loc[row_indexer,col_indexer] = value instead\n",
      "\n",
      "See the caveats in the documentation: https://pandas.pydata.org/pandas-docs/stable/user_guide/indexing.html#returning-a-view-versus-a-copy\n",
      "  climate_catastrophes_data_subset[\"End Month\"] = climate_catastrophes_data_subset[\"End Month\"].fillna(climate_catastrophes_data_subset[\"Start Month\"])\n"
     ]
    },
    {
     "ename": "",
     "evalue": "",
     "output_type": "error",
     "traceback": [
      "\u001b[1;31mnotebook controller is DISPOSED. \n",
      "\u001b[1;31mView Jupyter <a href='command:jupyter.viewOutput'>log</a> for further details."
     ]
    },
    {
     "ename": "",
     "evalue": "",
     "output_type": "error",
     "traceback": [
      "\u001b[1;31mnotebook controller is DISPOSED. \n",
      "\u001b[1;31mView Jupyter <a href='command:jupyter.viewOutput'>log</a> for further details."
     ]
    }
   ],
   "source": [
    "# Step 3: Create a list of countries to filter by\n",
    "target_countries = total_idps_per_month['country_name'].unique().tolist()\n",
    "\n",
    "# Step 4: Filter for only those countries\n",
    "emdat_cc_expanded = emdat_cc_expanded[emdat_cc_expanded['Country'].isin(target_countries)]\n",
    "\n",
    "# Step 5: fill NA for end year and assign it to the start month or year so it is joinable with the climate data\n",
    "climate_catastrophes_data_subset = emdat_cc_expanded[['Country', 'Start Year', 'Start Month', 'End Year', 'End Month',  'Disaster Type','Total Affected']]\n",
    "climate_catastrophes_data_subset[\"End Year\"] = climate_catastrophes_data_subset[\"End Year\"].fillna(climate_catastrophes_data_subset[\"Start Year\"])\n",
    "climate_catastrophes_data_subset[\"End Month\"] = climate_catastrophes_data_subset[\"End Month\"].fillna(climate_catastrophes_data_subset[\"Start Month\"])\n",
    "\n",
    "# Step 6: create a month/year column that is joinable\n",
    "\n",
    "expanded_rows = []\n",
    "for _, row in climate_catastrophes_data_subset.iterrows():\n",
    "    for year in range(row[\"Start Year\"], row[\"End Year\"] + 1):  # Iterate through years\n",
    "        # Handle potential NaN values in Start Month and End Month and ensure values are integers\n",
    "        start_month = (\n",
    "            int(row[\"Start Month\"]) if year == row[\"Start Year\"] and not pd.isna(row[\"Start Month\"]) else 1\n",
    "        )\n",
    "        end_month = (\n",
    "            int(row[\"End Month\"]) if year == row[\"End Year\"] and not pd.isna(row[\"End Month\"]) else 12\n",
    "        )\n",
    "        \n",
    "        # Iterate through months and create the expanded rows\n",
    "        for m in range(start_month, end_month + 1):\n",
    "            new_row = row.copy()\n",
    "            new_row[\"month\"] = m  # Assign the month\n",
    "            new_row[\"year\"] = year  # Assign the correct year\n",
    "            expanded_rows.append(new_row)\n",
    "\n",
    "climate_catastrophes_data = pd.DataFrame(expanded_rows)"
   ]
  },
  {
   "cell_type": "markdown",
   "metadata": {},
   "source": [
    "We merge IDP, climate data and climate catastrophes data"
   ]
  },
  {
   "cell_type": "code",
   "execution_count": null,
   "metadata": {},
   "outputs": [
    {
     "ename": "",
     "evalue": "",
     "output_type": "error",
     "traceback": [
      "\u001b[1;31mnotebook controller is DISPOSED. \n",
      "\u001b[1;31mView Jupyter <a href='command:jupyter.viewOutput'>log</a> for further details."
     ]
    },
    {
     "ename": "",
     "evalue": "",
     "output_type": "error",
     "traceback": [
      "\u001b[1;31mnotebook controller is DISPOSED. \n",
      "\u001b[1;31mView Jupyter <a href='command:jupyter.viewOutput'>log</a> for further details."
     ]
    }
   ],
   "source": [
    "# Merge IDP, climate data and climate catastrophes data\n",
    "merged_df = pd.merge(\n",
    "    total_idps_per_month,\n",
    "    climate_catastrophes_data,  \n",
    "    left_on=['year', 'month', 'country_name'],\n",
    "    right_on=['year', 'month', 'Country'],\n",
    "    how='left'          # Keep all climate data rows, even without IDP data\n",
    ")\n",
    "\n",
    "#drop 'Country' column\n",
    "merged_df.drop(columns=['Country'], inplace=True)"
   ]
  },
  {
   "cell_type": "markdown",
   "metadata": {},
   "source": [
    "We create column 'climate_catastrophe' to indicate if a climate catastrophe occurred"
   ]
  },
  {
   "cell_type": "code",
   "execution_count": null,
   "metadata": {},
   "outputs": [
    {
     "data": {
      "text/plain": [
       "climate_catastrophe\n",
       "0    589\n",
       "1    555\n",
       "Name: count, dtype: int64"
      ]
     },
     "execution_count": 11,
     "metadata": {},
     "output_type": "execute_result"
    },
    {
     "ename": "",
     "evalue": "",
     "output_type": "error",
     "traceback": [
      "\u001b[1;31mnotebook controller is DISPOSED. \n",
      "\u001b[1;31mView Jupyter <a href='command:jupyter.viewOutput'>log</a> for further details."
     ]
    },
    {
     "ename": "",
     "evalue": "",
     "output_type": "error",
     "traceback": [
      "\u001b[1;31mnotebook controller is DISPOSED. \n",
      "\u001b[1;31mView Jupyter <a href='command:jupyter.viewOutput'>log</a> for further details."
     ]
    }
   ],
   "source": [
    "merged_df['climate_catastrophe'] = merged_df['Disaster Type'].notnull().astype(int)\n",
    "merged_df['climate_catastrophe'].value_counts()"
   ]
  },
  {
   "cell_type": "markdown",
   "metadata": {},
   "source": [
    "We merge with inflation and country indicators data."
   ]
  },
  {
   "cell_type": "code",
   "execution_count": null,
   "metadata": {},
   "outputs": [
    {
     "ename": "",
     "evalue": "",
     "output_type": "error",
     "traceback": [
      "\u001b[1;31mnotebook controller is DISPOSED. \n",
      "\u001b[1;31mView Jupyter <a href='command:jupyter.viewOutput'>log</a> for further details."
     ]
    },
    {
     "ename": "",
     "evalue": "",
     "output_type": "error",
     "traceback": [
      "\u001b[1;31mnotebook controller is DISPOSED. \n",
      "\u001b[1;31mView Jupyter <a href='command:jupyter.viewOutput'>log</a> for further details."
     ]
    }
   ],
   "source": [
    "merged_df=pd.merge(merged_df,\n",
    "    inflation_data,\n",
    "    how='left')"
   ]
  },
  {
   "cell_type": "code",
   "execution_count": null,
   "metadata": {},
   "outputs": [
    {
     "ename": "",
     "evalue": "",
     "output_type": "error",
     "traceback": [
      "\u001b[1;31mnotebook controller is DISPOSED. \n",
      "\u001b[1;31mView Jupyter <a href='command:jupyter.viewOutput'>log</a> for further details."
     ]
    },
    {
     "ename": "",
     "evalue": "",
     "output_type": "error",
     "traceback": [
      "\u001b[1;31mnotebook controller is DISPOSED. \n",
      "\u001b[1;31mView Jupyter <a href='command:jupyter.viewOutput'>log</a> for further details."
     ]
    }
   ],
   "source": [
    "merged_df = pd.merge(merged_df,\n",
    "    country_indicators,\n",
    "    how='left',\n",
    "    left_on=['country_code', 'year'],\n",
    "    right_on=['Country Code', 'year']\n",
    ")"
   ]
  },
  {
   "cell_type": "markdown",
   "metadata": {},
   "source": [
    "We keep only data between 2010-2024"
   ]
  },
  {
   "cell_type": "code",
   "execution_count": null,
   "metadata": {},
   "outputs": [
    {
     "ename": "",
     "evalue": "",
     "output_type": "error",
     "traceback": [
      "\u001b[1;31mnotebook controller is DISPOSED. \n",
      "\u001b[1;31mView Jupyter <a href='command:jupyter.viewOutput'>log</a> for further details."
     ]
    },
    {
     "ename": "",
     "evalue": "",
     "output_type": "error",
     "traceback": [
      "\u001b[1;31mnotebook controller is DISPOSED. \n",
      "\u001b[1;31mView Jupyter <a href='command:jupyter.viewOutput'>log</a> for further details."
     ]
    }
   ],
   "source": [
    "merged_df = merged_df[(merged_df['year'] < 2024) & (merged_df['year'] > 2010)]"
   ]
  },
  {
   "cell_type": "code",
   "execution_count": null,
   "metadata": {},
   "outputs": [
    {
     "ename": "",
     "evalue": "",
     "output_type": "error",
     "traceback": [
      "\u001b[1;31mnotebook controller is DISPOSED. \n",
      "\u001b[1;31mView Jupyter <a href='command:jupyter.viewOutput'>log</a> for further details."
     ]
    },
    {
     "ename": "",
     "evalue": "",
     "output_type": "error",
     "traceback": [
      "\u001b[1;31mnotebook controller is DISPOSED. \n",
      "\u001b[1;31mView Jupyter <a href='command:jupyter.viewOutput'>log</a> for further details."
     ]
    }
   ],
   "source": [
    "merged_df = standardize_headers(merged_df)"
   ]
  },
  {
   "cell_type": "markdown",
   "metadata": {},
   "source": [
    "## NA handling\n",
    "\n",
    "We have a bunch of NA's that we have to deal with, as we will need them to be filled with information for our predictive model."
   ]
  },
  {
   "cell_type": "code",
   "execution_count": null,
   "metadata": {},
   "outputs": [
    {
     "name": "stdout",
     "output_type": "stream",
     "text": [
      "year                              0\n",
      "month                             0\n",
      "country_name                      0\n",
      "country_code                      0\n",
      "internally_displaced_persons      0\n",
      "temperature_2m                    5\n",
      "total_precipitation_sum           5\n",
      "potential_evaporation_sum         5\n",
      "start_year                      536\n",
      "start_month                     606\n",
      "end_year                        536\n",
      "end_month                       543\n",
      "disaster_type                   536\n",
      "total_affected                  564\n",
      "climate_catastrophe               0\n",
      "cpi_value                       194\n",
      "country_code                    143\n",
      "ag.lnd.frst.k2                  232\n",
      "ag.lnd.prcp.mm                  293\n",
      "ag.lnd.totl.k2                  209\n",
      "ag.srf.totl.k2                  203\n",
      "eg.cft.accs.ru.zs               247\n",
      "eg.cft.accs.ur.zs               247\n",
      "eg.cft.accs.zs                  247\n",
      "eg.egy.prim.pp.kd               268\n",
      "eg.elc.accs.zs                  203\n",
      "eg.fec.rnew.zs                  266\n",
      "en.ghg.all.mt.ce.ar5            505\n",
      "en.ghg.ch4.ag.mt.ce.ar5         246\n",
      "en.ghg.ch4.bu.mt.ce.ar5         227\n",
      "en.ghg.ch4.fe.mt.ce.ar5         363\n",
      "en.ghg.ch4.ic.mt.ce.ar5         227\n",
      "en.ghg.ch4.mt.ce.ar5            421\n",
      "en.ghg.ch4.pi.mt.ce.ar5         227\n",
      "en.ghg.ch4.tr.mt.ce.ar5         227\n",
      "en.ghg.ch4.wa.mt.ce.ar5         227\n",
      "en.ghg.co2.bu.mt.ce.ar5         227\n",
      "en.ghg.co2.ic.mt.ce.ar5         234\n",
      "en.ghg.co2.ip.mt.ce.ar5         227\n",
      "en.ghg.co2.lu.mt.ce.ar5         469\n",
      "en.ghg.co2.mt.ce.ar5            415\n",
      "en.ghg.co2.pi.mt.ce.ar5         235\n",
      "en.ghg.co2.tr.mt.ce.ar5         241\n",
      "en.ghg.fgas.ip.mt.ce.ar5        315\n",
      "en.ghg.n2o.ag.mt.ce.ar5         227\n",
      "en.ghg.n2o.bu.mt.ce.ar5         227\n",
      "en.ghg.n2o.fe.mt.ce.ar5         228\n",
      "en.ghg.n2o.ic.mt.ce.ar5         227\n",
      "en.ghg.n2o.ip.mt.ce.ar5         227\n",
      "en.ghg.n2o.mt.ce.ar5            227\n",
      "en.ghg.n2o.pi.mt.ce.ar5         227\n",
      "en.ghg.n2o.tr.mt.ce.ar5         227\n",
      "en.ghg.n2o.wa.mt.ce.ar5         227\n",
      "er.fsh.aqua.mt                  238\n",
      "er.fsh.capt.mt                  203\n",
      "er.fsh.prod.mt                  238\n",
      "er.h2o.fwtl.k3                  312\n",
      "er.h2o.intr.k3                  293\n",
      "sp.pop.totl                     143\n",
      "dtype: int64\n"
     ]
    },
    {
     "ename": "",
     "evalue": "",
     "output_type": "error",
     "traceback": [
      "\u001b[1;31mnotebook controller is DISPOSED. \n",
      "\u001b[1;31mView Jupyter <a href='command:jupyter.viewOutput'>log</a> for further details."
     ]
    },
    {
     "ename": "",
     "evalue": "",
     "output_type": "error",
     "traceback": [
      "\u001b[1;31mnotebook controller is DISPOSED. \n",
      "\u001b[1;31mView Jupyter <a href='command:jupyter.viewOutput'>log</a> for further details."
     ]
    }
   ],
   "source": [
    "na_counts = merged_df.isna().sum()"
   ]
  },
  {
   "cell_type": "markdown",
   "metadata": {},
   "source": [
    "We will select all numeric columns for imputation, but with important exceptions. Specifically, we will exclude the columns related to climate catastrophes and internally displaced people, as missing values in these cases indicate the absence of such events rather than missing data. Additionally, we will not impute the total population column. Since population size is influenced by complex factors not fully captured in our dataset — and because countries in our sample vary widely in size — we will instead use a Bayesian regression approach to estimate missing population values. This ensures a more robust and context-sensitive treatment of this key variable."
   ]
  },
  {
   "cell_type": "code",
   "execution_count": null,
   "metadata": {},
   "outputs": [
    {
     "ename": "",
     "evalue": "",
     "output_type": "error",
     "traceback": [
      "\u001b[1;31mnotebook controller is DISPOSED. \n",
      "\u001b[1;31mView Jupyter <a href='command:jupyter.viewOutput'>log</a> for further details."
     ]
    },
    {
     "ename": "",
     "evalue": "",
     "output_type": "error",
     "traceback": [
      "\u001b[1;31mnotebook controller is DISPOSED. \n",
      "\u001b[1;31mView Jupyter <a href='command:jupyter.viewOutput'>log</a> for further details."
     ]
    }
   ],
   "source": [
    "# select numeric columns\n",
    "numeric_columns = merged_df.select_dtypes(include=['number']).columns\n",
    "numeric_columns = [col for col in numeric_columns if col not in ['year','month', 'internally_displaced_persons','start_month', 'end_year', 'end_month', 'total_affected', 'climate_catastrophe', 'sp.pop.totl']]\n",
    "cols_to_impute = merged_df[numeric_columns]"
   ]
  },
  {
   "cell_type": "markdown",
   "metadata": {},
   "source": [
    "We apply the function `IterativeImputer`, by default it uses the Bayesian Ridge Regression to impute values."
   ]
  },
  {
   "cell_type": "code",
   "execution_count": null,
   "metadata": {},
   "outputs": [
    {
     "ename": "",
     "evalue": "",
     "output_type": "error",
     "traceback": [
      "\u001b[1;31mnotebook controller is DISPOSED. \n",
      "\u001b[1;31mView Jupyter <a href='command:jupyter.viewOutput'>log</a> for further details."
     ]
    },
    {
     "ename": "",
     "evalue": "",
     "output_type": "error",
     "traceback": [
      "\u001b[1;31mnotebook controller is DISPOSED. \n",
      "\u001b[1;31mView Jupyter <a href='command:jupyter.viewOutput'>log</a> for further details."
     ]
    }
   ],
   "source": [
    "from sklearn.experimental import enable_iterative_imputer\n",
    "from sklearn.impute import IterativeImputer\n",
    "\n",
    "imp = IterativeImputer(max_iter=100, random_state=0)\n",
    "merged_df_imputed = pd.DataFrame(imp.fit_transform(cols_to_impute), columns=numeric_columns)"
   ]
  },
  {
   "cell_type": "code",
   "execution_count": null,
   "metadata": {},
   "outputs": [
    {
     "ename": "",
     "evalue": "",
     "output_type": "error",
     "traceback": [
      "\u001b[1;31mnotebook controller is DISPOSED. \n",
      "\u001b[1;31mView Jupyter <a href='command:jupyter.viewOutput'>log</a> for further details."
     ]
    },
    {
     "ename": "",
     "evalue": "",
     "output_type": "error",
     "traceback": [
      "\u001b[1;31mnotebook controller is DISPOSED. \n",
      "\u001b[1;31mView Jupyter <a href='command:jupyter.viewOutput'>log</a> for further details."
     ]
    }
   ],
   "source": [
    "merged_df[numeric_columns] = merged_df_imputed"
   ]
  },
  {
   "cell_type": "code",
   "execution_count": null,
   "metadata": {},
   "outputs": [
    {
     "name": "stdout",
     "output_type": "stream",
     "text": [
      "year                              0\n",
      "month                             0\n",
      "country_name                      0\n",
      "country_code                      0\n",
      "internally_displaced_persons      0\n",
      "temperature_2m                    3\n",
      "total_precipitation_sum           3\n",
      "potential_evaporation_sum         3\n",
      "start_year                        3\n",
      "start_month                     606\n",
      "end_year                        536\n",
      "end_month                       543\n",
      "disaster_type                   536\n",
      "total_affected                  564\n",
      "climate_catastrophe               0\n",
      "cpi_value                         3\n",
      "country_code                    143\n",
      "ag.lnd.frst.k2                    3\n",
      "ag.lnd.prcp.mm                    3\n",
      "ag.lnd.totl.k2                    3\n",
      "ag.srf.totl.k2                    3\n",
      "eg.cft.accs.ru.zs                 3\n",
      "eg.cft.accs.ur.zs                 3\n",
      "eg.cft.accs.zs                    3\n",
      "eg.egy.prim.pp.kd                 3\n",
      "eg.elc.accs.zs                    3\n",
      "eg.fec.rnew.zs                    3\n",
      "en.ghg.all.mt.ce.ar5              3\n",
      "en.ghg.ch4.ag.mt.ce.ar5           3\n",
      "en.ghg.ch4.bu.mt.ce.ar5           3\n",
      "en.ghg.ch4.fe.mt.ce.ar5           3\n",
      "en.ghg.ch4.ic.mt.ce.ar5           3\n",
      "en.ghg.ch4.mt.ce.ar5              3\n",
      "en.ghg.ch4.pi.mt.ce.ar5           3\n",
      "en.ghg.ch4.tr.mt.ce.ar5           3\n",
      "en.ghg.ch4.wa.mt.ce.ar5           3\n",
      "en.ghg.co2.bu.mt.ce.ar5           3\n",
      "en.ghg.co2.ic.mt.ce.ar5           3\n",
      "en.ghg.co2.ip.mt.ce.ar5           3\n",
      "en.ghg.co2.lu.mt.ce.ar5           3\n",
      "en.ghg.co2.mt.ce.ar5              3\n",
      "en.ghg.co2.pi.mt.ce.ar5           3\n",
      "en.ghg.co2.tr.mt.ce.ar5           3\n",
      "en.ghg.fgas.ip.mt.ce.ar5          3\n",
      "en.ghg.n2o.ag.mt.ce.ar5           3\n",
      "en.ghg.n2o.bu.mt.ce.ar5           3\n",
      "en.ghg.n2o.fe.mt.ce.ar5           3\n",
      "en.ghg.n2o.ic.mt.ce.ar5           3\n",
      "en.ghg.n2o.ip.mt.ce.ar5           3\n",
      "en.ghg.n2o.mt.ce.ar5              3\n",
      "en.ghg.n2o.pi.mt.ce.ar5           3\n",
      "en.ghg.n2o.tr.mt.ce.ar5           3\n",
      "en.ghg.n2o.wa.mt.ce.ar5           3\n",
      "er.fsh.aqua.mt                    3\n",
      "er.fsh.capt.mt                    3\n",
      "er.fsh.prod.mt                    3\n",
      "er.h2o.fwtl.k3                    3\n",
      "er.h2o.intr.k3                    3\n",
      "sp.pop.totl                     143\n",
      "dtype: int64\n"
     ]
    },
    {
     "ename": "",
     "evalue": "",
     "output_type": "error",
     "traceback": [
      "\u001b[1;31mnotebook controller is DISPOSED. \n",
      "\u001b[1;31mView Jupyter <a href='command:jupyter.viewOutput'>log</a> for further details."
     ]
    },
    {
     "ename": "",
     "evalue": "",
     "output_type": "error",
     "traceback": [
      "\u001b[1;31mnotebook controller is DISPOSED. \n",
      "\u001b[1;31mView Jupyter <a href='command:jupyter.viewOutput'>log</a> for further details."
     ]
    }
   ],
   "source": [
    "na_counts = merged_df.isna().sum()\n",
    "print(na_counts)"
   ]
  },
  {
   "cell_type": "code",
   "execution_count": null,
   "metadata": {},
   "outputs": [
    {
     "ename": "",
     "evalue": "",
     "output_type": "error",
     "traceback": [
      "\u001b[1;31mnotebook controller is DISPOSED. \n",
      "\u001b[1;31mView Jupyter <a href='command:jupyter.viewOutput'>log</a> for further details."
     ]
    },
    {
     "ename": "",
     "evalue": "",
     "output_type": "error",
     "traceback": [
      "\u001b[1;31mnotebook controller is DISPOSED. \n",
      "\u001b[1;31mView Jupyter <a href='command:jupyter.viewOutput'>log</a> for further details."
     ]
    }
   ],
   "source": [
    "# save it to an csv file\n",
    "merged_df.to_csv('data/merged_climate_iom_data.csv', index=False)"
   ]
  }
 ],
 "metadata": {
  "kernelspec": {
   "display_name": "hertie_climate_migration",
   "language": "python",
   "name": "python3"
  },
  "language_info": {
   "codemirror_mode": {
    "name": "ipython",
    "version": 3
   },
   "file_extension": ".py",
   "mimetype": "text/x-python",
   "name": "python",
   "nbconvert_exporter": "python",
   "pygments_lexer": "ipython3",
   "version": "3.9.21"
  }
 },
 "nbformat": 4,
 "nbformat_minor": 2
}
