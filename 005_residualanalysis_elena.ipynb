{
 "cells": [
  {
   "cell_type": "code",
   "execution_count": 1,
   "id": "c9e825c5",
   "metadata": {},
   "outputs": [
    {
     "ename": "ImportError",
     "evalue": "cannot import name 'plot_partial_dependence' from 'sklearn.inspection' (/Applications/anaconda3/envs/ml2025/lib/python3.11/site-packages/sklearn/inspection/__init__.py)",
     "output_type": "error",
     "traceback": [
      "\u001b[31m---------------------------------------------------------------------------\u001b[39m",
      "\u001b[31mImportError\u001b[39m                               Traceback (most recent call last)",
      "\u001b[36mCell\u001b[39m\u001b[36m \u001b[39m\u001b[32mIn[1]\u001b[39m\u001b[32m, line 4\u001b[39m\n\u001b[32m      2\u001b[39m \u001b[38;5;28;01mimport\u001b[39;00m\u001b[38;5;250m \u001b[39m\u001b[34;01mnumpy\u001b[39;00m\u001b[38;5;250m \u001b[39m\u001b[38;5;28;01mas\u001b[39;00m\u001b[38;5;250m \u001b[39m\u001b[34;01mnp\u001b[39;00m\n\u001b[32m      3\u001b[39m \u001b[38;5;28;01mimport\u001b[39;00m\u001b[38;5;250m \u001b[39m\u001b[34;01mmatplotlib\u001b[39;00m\u001b[34;01m.\u001b[39;00m\u001b[34;01mpyplot\u001b[39;00m\u001b[38;5;250m \u001b[39m\u001b[38;5;28;01mas\u001b[39;00m\u001b[38;5;250m \u001b[39m\u001b[34;01mplt\u001b[39;00m\n\u001b[32m----> \u001b[39m\u001b[32m4\u001b[39m \u001b[38;5;28;01mfrom\u001b[39;00m\u001b[38;5;250m \u001b[39m\u001b[34;01msklearn\u001b[39;00m\u001b[34;01m.\u001b[39;00m\u001b[34;01minspection\u001b[39;00m\u001b[38;5;250m \u001b[39m\u001b[38;5;28;01mimport\u001b[39;00m partial_dependence, plot_partial_dependence\n\u001b[32m      6\u001b[39m \u001b[38;5;66;03m# Create partial dependence plots for key climate variables\u001b[39;00m\n\u001b[32m      7\u001b[39m \u001b[38;5;66;03m# Select the most important features or climate variables you're interested in\u001b[39;00m\n\u001b[32m      8\u001b[39m features_to_plot = [\n\u001b[32m      9\u001b[39m     \u001b[33m'\u001b[39m\u001b[33mtemperature_anomaly\u001b[39m\u001b[33m'\u001b[39m,  \u001b[38;5;66;03m# Adjust with your actual column names\u001b[39;00m\n\u001b[32m     10\u001b[39m     \u001b[33m'\u001b[39m\u001b[33mprecipitation_change\u001b[39m\u001b[33m'\u001b[39m,\n\u001b[32m     11\u001b[39m     \u001b[33m'\u001b[39m\u001b[33mextreme_weather_events\u001b[39m\u001b[33m'\u001b[39m,\n\u001b[32m     12\u001b[39m     \u001b[33m'\u001b[39m\u001b[33msea_level_rise\u001b[39m\u001b[33m'\u001b[39m\n\u001b[32m     13\u001b[39m ]\n",
      "\u001b[31mImportError\u001b[39m: cannot import name 'plot_partial_dependence' from 'sklearn.inspection' (/Applications/anaconda3/envs/ml2025/lib/python3.11/site-packages/sklearn/inspection/__init__.py)"
     ]
    }
   ],
   "source": [
    "import joblib\n",
    "import numpy as np\n",
    "import matplotlib.pyplot as plt\n",
    "from sklearn.inspection import partial_dependence, plot_partial_dependence\n",
    "\n",
    "# Create partial dependence plots for key climate variables\n",
    "# Select the most important features or climate variables you're interested in\n",
    "features_to_plot = [\n",
    "    'temperature_anomaly',  # Adjust with your actual column names\n",
    "    'precipitation_change',\n",
    "    'extreme_weather_events',\n",
    "    'sea_level_rise'\n",
    "]\n",
    "\n",
    "# Generate the plots\n",
    "fig, ax = plt.subplots(figsize=(12, 8))\n",
    "display = plot_partial_dependence(\n",
    "    rf_model, X, features_to_plot, \n",
    "    kind='both',  # Shows both individual and average effects\n",
    "    subsample=1000,  # Use a subset of data for faster computation\n",
    "    n_jobs=2,  # Parallel processing\n",
    "    grid_resolution=50,  # Higher for smoother curves\n",
    "    random_state=42,\n",
    "    ax=ax\n",
    ")\n",
    "fig.tight_layout()\n",
    "plt.suptitle('Partial Dependence of Climate Factors on Migration', fontsize=16)\n",
    "plt.subplots_adjust(top=0.9)\n",
    "plt.show()"
   ]
  },
  {
   "cell_type": "code",
   "execution_count": null,
   "id": "3e2a3d9f",
   "metadata": {},
   "outputs": [],
   "source": []
  }
 ],
 "metadata": {
  "kernelspec": {
   "display_name": "ml2025",
   "language": "python",
   "name": "python3"
  },
  "language_info": {
   "codemirror_mode": {
    "name": "ipython",
    "version": 3
   },
   "file_extension": ".py",
   "mimetype": "text/x-python",
   "name": "python",
   "nbconvert_exporter": "python",
   "pygments_lexer": "ipython3",
   "version": "3.11.8"
  }
 },
 "nbformat": 4,
 "nbformat_minor": 5
}
