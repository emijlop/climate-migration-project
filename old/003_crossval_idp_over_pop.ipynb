{
 "cells": [
  {
   "cell_type": "code",
   "execution_count": 2,
   "id": "1e4d852c",
   "metadata": {},
   "outputs": [],
   "source": [
    "import pandas as pd\n",
    "import matplotlib.pyplot as plt\n",
    "import numpy as np \n",
    "import matplotlib.pyplot as plt\n",
    "import seaborn as sns\n",
    "import joblib \n",
    "import statsmodels.api as sm\n",
    "from sklearn.model_selection import train_test_split\n",
    "from sklearn.metrics import mean_absolute_error, r2_score\n",
    "from sklearn.ensemble import RandomForestRegressor\n",
    "from sklearn.linear_model import Ridge, Lasso\n",
    "from sklearn.preprocessing import StandardScaler\n",
    "from sklearn.pipeline import Pipeline\n",
    "from sklearn.model_selection import KFold, cross_val_score\n",
    "from sklearn.metrics import mean_absolute_error, make_scorer"
   ]
  },
  {
   "cell_type": "code",
   "execution_count": 3,
   "id": "1f62f449",
   "metadata": {},
   "outputs": [],
   "source": [
    "df = pd.read_csv('data/merged_climate_iom_data.csv')"
   ]
  },
  {
   "cell_type": "code",
   "execution_count": 4,
   "id": "81196127",
   "metadata": {},
   "outputs": [],
   "source": [
    "# Sorting by country and time to ensure proper filling\n",
    "df.sort_values(by=[\"country_code\", \"year\", \"month\"], inplace=True)\n",
    "\n",
    "columns_to_fill_extended = [\n",
    "    \"AG.LND.FRST.K2\", \"AG.LND.PRCP.MM\", \"AG.LND.TOTL.K2\", \"AG.SRF.TOTL.K2\",\n",
    "    \"EG.CFT.ACCS.RU.ZS\", \"EG.CFT.ACCS.UR.ZS\", \"EG.CFT.ACCS.ZS\", \"EG.EGY.PRIM.PP.KD\", \"EG.ELC.ACCS.ZS\", \"EG.FEC.RNEW.ZS\",\n",
    "    \"EN.GHG.ALL.MT.CE.AR5\", \"EN.GHG.CH4.AG.MT.CE.AR5\", \"EN.GHG.CH4.BU.MT.CE.AR5\", \"EN.GHG.CH4.FE.MT.CE.AR5\",\n",
    "    \"EN.GHG.CH4.IC.MT.CE.AR5\", \"EN.GHG.CH4.MT.CE.AR5\", \"EN.GHG.CH4.PI.MT.CE.AR5\", \"EN.GHG.CH4.TR.MT.CE.AR5\",\n",
    "    \"EN.GHG.CH4.WA.MT.CE.AR5\", \"EN.GHG.CO2.BU.MT.CE.AR5\", \"EN.GHG.CO2.IC.MT.CE.AR5\", \"EN.GHG.CO2.IP.MT.CE.AR5\",\n",
    "    \"EN.GHG.CO2.LU.MT.CE.AR5\", \"EN.GHG.CO2.MT.CE.AR5\", \"EN.GHG.CO2.PI.MT.CE.AR5\", \"EN.GHG.CO2.TR.MT.CE.AR5\",\n",
    "    \"EN.GHG.FGAS.IP.MT.CE.AR5\", \"EN.GHG.N2O.AG.MT.CE.AR5\", \"EN.GHG.N2O.BU.MT.CE.AR5\", \"EN.GHG.N2O.FE.MT.CE.AR5\",\n",
    "    \"EN.GHG.N2O.IC.MT.CE.AR5\", \"EN.GHG.N2O.IP.MT.CE.AR5\", \"EN.GHG.N2O.MT.CE.AR5\", \"EN.GHG.N2O.PI.MT.CE.AR5\",\n",
    "    \"EN.GHG.N2O.TR.MT.CE.AR5\", \"EN.GHG.N2O.WA.MT.CE.AR5\", \"ER.FSH.AQUA.MT\", \"ER.FSH.CAPT.MT\", \"ER.FSH.PROD.MT\",\n",
    "    \"ER.H2O.FWTL.K3\", \"ER.H2O.INTR.K3\", \"SP.POP.TOTL\"\n",
    "]\n",
    "\n",
    "columns_to_fill_extended = [col.lower() for col in columns_to_fill_extended]\n",
    "\n",
    "# Filtering columns that exist in the dataset\n",
    "existing_columns = [col for col in columns_to_fill_extended if col in df.columns]\n",
    "\n",
    "df[existing_columns] = df.groupby(\"country_code\")[existing_columns].transform(lambda x: x.ffill().bfill())"
   ]
  },
  {
   "cell_type": "code",
   "execution_count": 5,
   "id": "dad780f8",
   "metadata": {},
   "outputs": [],
   "source": [
    "df['total_idp_over_pop'] = (df['internally_displaced_persons'] / df['sp.pop.totl'])*100\n",
    "df['total_affected_over_pop'] = (df['total_affected'] / df['sp.pop.totl'])*100"
   ]
  },
  {
   "cell_type": "code",
<<<<<<< Updated upstream
   "execution_count": 6,
   "id": "93153974",
   "metadata": {},
   "outputs": [],
   "source": [
    "weird_values = df[df['total_idp_over_pop'] > 100]"
   ]
  },
  {
   "cell_type": "code",
   "execution_count": 7,
   "id": "33bc9928",
   "metadata": {},
   "outputs": [
    {
     "data": {
      "text/plain": [
       "8"
      ]
     },
     "execution_count": 7,
     "metadata": {},
     "output_type": "execute_result"
    }
   ],
   "source": [
    "len(weird_values)"
   ]
  },
  {
   "cell_type": "code",
   "execution_count": 8,
   "id": "994bb9a0",
   "metadata": {},
   "outputs": [
    {
     "data": {
      "text/html": [
       "<div>\n",
       "<style scoped>\n",
       "    .dataframe tbody tr th:only-of-type {\n",
       "        vertical-align: middle;\n",
       "    }\n",
       "\n",
       "    .dataframe tbody tr th {\n",
       "        vertical-align: top;\n",
       "    }\n",
       "\n",
       "    .dataframe thead th {\n",
       "        text-align: right;\n",
       "    }\n",
       "</style>\n",
       "<table border=\"1\" class=\"dataframe\">\n",
       "  <thead>\n",
       "    <tr style=\"text-align: right;\">\n",
       "      <th></th>\n",
       "      <th>year</th>\n",
       "      <th>sp.pop.totl</th>\n",
       "      <th>internally_displaced_persons</th>\n",
       "      <th>total_idp_over_pop</th>\n",
       "      <th>total_affected_over_pop</th>\n",
       "    </tr>\n",
       "  </thead>\n",
       "  <tbody>\n",
       "    <tr>\n",
       "      <th>count</th>\n",
       "      <td>8.000000</td>\n",
       "      <td>8.000000e+00</td>\n",
       "      <td>8.000000e+00</td>\n",
       "      <td>8.000000</td>\n",
       "      <td>3.000000</td>\n",
       "    </tr>\n",
       "    <tr>\n",
       "      <th>mean</th>\n",
       "      <td>2022.250000</td>\n",
       "      <td>3.535141e+07</td>\n",
       "      <td>4.878471e+07</td>\n",
       "      <td>129.245549</td>\n",
       "      <td>49.949904</td>\n",
       "    </tr>\n",
       "    <tr>\n",
       "      <th>std</th>\n",
       "      <td>1.035098</td>\n",
       "      <td>2.027603e+07</td>\n",
       "      <td>3.285272e+07</td>\n",
       "      <td>29.424648</td>\n",
       "      <td>36.602761</td>\n",
       "    </tr>\n",
       "    <tr>\n",
       "      <th>min</th>\n",
       "      <td>2021.000000</td>\n",
       "      <td>1.086578e+07</td>\n",
       "      <td>1.114828e+07</td>\n",
       "      <td>102.599951</td>\n",
       "      <td>7.684676</td>\n",
       "    </tr>\n",
       "    <tr>\n",
       "      <th>25%</th>\n",
       "      <td>2021.000000</td>\n",
       "      <td>1.086578e+07</td>\n",
       "      <td>1.205802e+07</td>\n",
       "      <td>110.972392</td>\n",
       "      <td>39.383597</td>\n",
       "    </tr>\n",
       "    <tr>\n",
       "      <th>50%</th>\n",
       "      <td>2023.000000</td>\n",
       "      <td>5.004279e+07</td>\n",
       "      <td>5.963956e+07</td>\n",
       "      <td>119.177121</td>\n",
       "      <td>71.082518</td>\n",
       "    </tr>\n",
       "    <tr>\n",
       "      <th>75%</th>\n",
       "      <td>2023.000000</td>\n",
       "      <td>5.004279e+07</td>\n",
       "      <td>6.685620e+07</td>\n",
       "      <td>133.598064</td>\n",
       "      <td>71.082518</td>\n",
       "    </tr>\n",
       "    <tr>\n",
       "      <th>max</th>\n",
       "      <td>2023.000000</td>\n",
       "      <td>5.004279e+07</td>\n",
       "      <td>9.545158e+07</td>\n",
       "      <td>190.739913</td>\n",
       "      <td>71.082518</td>\n",
       "    </tr>\n",
       "  </tbody>\n",
       "</table>\n",
       "</div>"
      ],
      "text/plain": [
       "              year   sp.pop.totl  internally_displaced_persons  \\\n",
       "count     8.000000  8.000000e+00                  8.000000e+00   \n",
       "mean   2022.250000  3.535141e+07                  4.878471e+07   \n",
       "std       1.035098  2.027603e+07                  3.285272e+07   \n",
       "min    2021.000000  1.086578e+07                  1.114828e+07   \n",
       "25%    2021.000000  1.086578e+07                  1.205802e+07   \n",
       "50%    2023.000000  5.004279e+07                  5.963956e+07   \n",
       "75%    2023.000000  5.004279e+07                  6.685620e+07   \n",
       "max    2023.000000  5.004279e+07                  9.545158e+07   \n",
       "\n",
       "       total_idp_over_pop  total_affected_over_pop  \n",
       "count            8.000000                 3.000000  \n",
       "mean           129.245549                49.949904  \n",
       "std             29.424648                36.602761  \n",
       "min            102.599951                 7.684676  \n",
       "25%            110.972392                39.383597  \n",
       "50%            119.177121                71.082518  \n",
       "75%            133.598064                71.082518  \n",
       "max            190.739913                71.082518  "
      ]
     },
     "execution_count": 8,
     "metadata": {},
     "output_type": "execute_result"
    }
   ],
   "source": [
    "weird_values[['year','country_name', 'sp.pop.totl','internally_displaced_persons',  'total_idp_over_pop', 'total_affected_over_pop']].describe()"
   ]
  },
  {
   "cell_type": "code",
   "execution_count": 9,
=======
   "execution_count": 8,
>>>>>>> Stashed changes
   "id": "15b9719c",
   "metadata": {},
   "outputs": [],
   "source": [
    "# Removing odd values, where we have more than 100% of the population displaced\n",
    "df = df[df['total_idp_over_pop'] < 100]"
   ]
  },
  {
   "cell_type": "code",
<<<<<<< Updated upstream
   "execution_count": 10,
=======
   "execution_count": 21,
   "id": "6b70dae1",
   "metadata": {},
   "outputs": [
    {
     "data": {
      "image/png": "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",
      "text/plain": [
       "<Figure size 1000x600 with 1 Axes>"
      ]
     },
     "metadata": {},
     "output_type": "display_data"
    }
   ],
   "source": [
    "#make histogram of variable total_idp_over_pop\n",
    "plt.figure(figsize=(10, 6))\n",
    "plt.hist(df['total_idp_over_pop'], bins=30, color='blue', alpha=0.7)\n",
    "plt.title('Distribution of Total IDP Over Population')\n",
    "plt.xlabel('Total IDP Over Population (%)')\n",
    "plt.ylabel('Frequency')\n",
    "plt.grid(axis='y', alpha=0.75)"
   ]
  },
  {
   "cell_type": "code",
   "execution_count": 9,
>>>>>>> Stashed changes
   "id": "a8b221a0",
   "metadata": {},
   "outputs": [
    {
     "name": "stderr",
     "output_type": "stream",
     "text": [
<<<<<<< Updated upstream
      "/var/folders/p2/6x334wb90dvdf75sfntm2bxw0000gn/T/ipykernel_1402/212894501.py:28: FutureWarning: A value is trying to be set on a copy of a DataFrame or Series through chained assignment using an inplace method.\n",
=======
      "C:\\Users\\LENOVO\\AppData\\Local\\Temp\\ipykernel_19276\\2897045462.py:28: FutureWarning: A value is trying to be set on a copy of a DataFrame or Series through chained assignment using an inplace method.\n",
>>>>>>> Stashed changes
      "The behavior will change in pandas 3.0. This inplace method will never work because the intermediate object on which we are setting values always behaves as a copy.\n",
      "\n",
      "For example, when doing 'df[col].method(value, inplace=True)', try using 'df.method({col: value}, inplace=True)' or df[col] = df[col].method(value) instead, to perform the operation inplace on the original object.\n",
      "\n",
      "\n",
      "  df[col].fillna(df[col].mean(), inplace=True)\n",
<<<<<<< Updated upstream
      "/var/folders/p2/6x334wb90dvdf75sfntm2bxw0000gn/T/ipykernel_1402/212894501.py:26: FutureWarning: A value is trying to be set on a copy of a DataFrame or Series through chained assignment using an inplace method.\n",
=======
      "C:\\Users\\LENOVO\\AppData\\Local\\Temp\\ipykernel_19276\\2897045462.py:26: FutureWarning: A value is trying to be set on a copy of a DataFrame or Series through chained assignment using an inplace method.\n",
>>>>>>> Stashed changes
      "The behavior will change in pandas 3.0. This inplace method will never work because the intermediate object on which we are setting values always behaves as a copy.\n",
      "\n",
      "For example, when doing 'df[col].method(value, inplace=True)', try using 'df.method({col: value}, inplace=True)' or df[col] = df[col].method(value) instead, to perform the operation inplace on the original object.\n",
      "\n",
      "\n",
      "  df[col].fillna(0, inplace=True)\n"
     ]
    },
    {
     "data": {
      "text/html": [
       "<table class=\"simpletable\">\n",
       "<caption>OLS Regression Results</caption>\n",
       "<tr>\n",
       "  <th>Dep. Variable:</th>    <td>total_idp_over_pop</td> <th>  R-squared:         </th> <td>   0.123</td>\n",
       "</tr>\n",
       "<tr>\n",
       "  <th>Model:</th>                    <td>OLS</td>        <th>  Adj. R-squared:    </th> <td>   0.078</td>\n",
       "</tr>\n",
       "<tr>\n",
       "  <th>Method:</th>              <td>Least Squares</td>   <th>  F-statistic:       </th> <td>   2.742</td>\n",
       "</tr>\n",
       "<tr>\n",
<<<<<<< Updated upstream
       "  <th>Date:</th>                   <td>Sat, 10 May 2025</td>       <th>  Prob (F-statistic):</th> <td>1.97e-23</td> \n",
       "</tr>\n",
       "<tr>\n",
       "  <th>Time:</th>                       <td>17:44:03</td>           <th>  Log-Likelihood:    </th> <td> -14999.</td> \n",
=======
       "  <th>Date:</th>              <td>Thu, 08 May 2025</td>  <th>  Prob (F-statistic):</th> <td>2.36e-08</td>\n",
       "</tr>\n",
       "<tr>\n",
       "  <th>Time:</th>                  <td>17:47:54</td>      <th>  Log-Likelihood:    </th> <td> -3380.1</td>\n",
>>>>>>> Stashed changes
       "</tr>\n",
       "<tr>\n",
       "  <th>No. Observations:</th>       <td>   909</td>       <th>  AIC:               </th> <td>   6850.</td>\n",
       "</tr>\n",
       "<tr>\n",
       "  <th>Df Residuals:</th>           <td>   864</td>       <th>  BIC:               </th> <td>   7067.</td>\n",
       "</tr>\n",
       "<tr>\n",
       "  <th>Df Model:</th>               <td>    44</td>       <th>                     </th>     <td> </td>   \n",
       "</tr>\n",
       "<tr>\n",
       "  <th>Covariance Type:</th>       <td>nonrobust</td>     <th>                     </th>     <td> </td>   \n",
       "</tr>\n",
       "</table>\n",
       "<table class=\"simpletable\">\n",
       "<tr>\n",
       "              <td></td>                <th>coef</th>     <th>std err</th>      <th>t</th>      <th>P>|t|</th>  <th>[0.025</th>    <th>0.975]</th>  \n",
       "</tr>\n",
       "<tr>\n",
       "  <th>const</th>                    <td>   11.7941</td> <td>    8.491</td> <td>    1.389</td> <td> 0.165</td> <td>   -4.871</td> <td>   28.459</td>\n",
       "</tr>\n",
       "<tr>\n",
       "  <th>ag.lnd.frst.k2</th>           <td> 3.897e-05</td> <td> 1.59e-05</td> <td>    2.444</td> <td> 0.015</td> <td> 7.67e-06</td> <td> 7.03e-05</td>\n",
       "</tr>\n",
       "<tr>\n",
       "  <th>ag.lnd.prcp.mm</th>           <td>   -0.0014</td> <td>    0.003</td> <td>   -0.401</td> <td> 0.688</td> <td>   -0.008</td> <td>    0.005</td>\n",
       "</tr>\n",
       "<tr>\n",
       "  <th>ag.lnd.totl.k2</th>           <td>    0.0002</td> <td>    0.000</td> <td>    1.446</td> <td> 0.149</td> <td>-5.98e-05</td> <td>    0.000</td>\n",
       "</tr>\n",
       "<tr>\n",
       "  <th>ag.srf.totl.k2</th>           <td>   -0.0002</td> <td>    0.000</td> <td>   -1.509</td> <td> 0.132</td> <td>   -0.000</td> <td> 5.17e-05</td>\n",
       "</tr>\n",
       "<tr>\n",
       "  <th>eg.cft.accs.ru.zs</th>        <td>    0.0087</td> <td>    0.221</td> <td>    0.039</td> <td> 0.969</td> <td>   -0.426</td> <td>    0.443</td>\n",
       "</tr>\n",
       "<tr>\n",
       "  <th>eg.cft.accs.ur.zs</th>        <td>   -0.1416</td> <td>    0.100</td> <td>   -1.416</td> <td> 0.157</td> <td>   -0.338</td> <td>    0.055</td>\n",
       "</tr>\n",
       "<tr>\n",
       "  <th>eg.cft.accs.zs</th>           <td>    0.2266</td> <td>    0.286</td> <td>    0.793</td> <td> 0.428</td> <td>   -0.334</td> <td>    0.787</td>\n",
       "</tr>\n",
       "<tr>\n",
       "  <th>eg.egy.prim.pp.kd</th>        <td>   -0.5172</td> <td>    0.402</td> <td>   -1.286</td> <td> 0.199</td> <td>   -1.307</td> <td>    0.272</td>\n",
       "</tr>\n",
       "<tr>\n",
       "  <th>eg.elc.accs.zs</th>           <td>   -0.0009</td> <td>    0.057</td> <td>   -0.015</td> <td> 0.988</td> <td>   -0.112</td> <td>    0.111</td>\n",
       "</tr>\n",
       "<tr>\n",
       "  <th>eg.fec.rnew.zs</th>           <td>    0.0028</td> <td>    0.067</td> <td>    0.041</td> <td> 0.967</td> <td>   -0.130</td> <td>    0.135</td>\n",
       "</tr>\n",
       "<tr>\n",
       "  <th>en.ghg.all.mt.ce.ar5</th>     <td>    0.0216</td> <td>    0.005</td> <td>    4.060</td> <td> 0.000</td> <td>    0.011</td> <td>    0.032</td>\n",
       "</tr>\n",
       "<tr>\n",
       "  <th>en.ghg.ch4.ag.mt.ce.ar5</th>  <td>    0.0087</td> <td>    0.006</td> <td>    1.346</td> <td> 0.179</td> <td>   -0.004</td> <td>    0.021</td>\n",
       "</tr>\n",
       "<tr>\n",
       "  <th>en.ghg.ch4.bu.mt.ce.ar5</th>  <td>   -0.0012</td> <td>    0.003</td> <td>   -0.414</td> <td> 0.679</td> <td>   -0.007</td> <td>    0.005</td>\n",
       "</tr>\n",
       "<tr>\n",
       "  <th>en.ghg.ch4.fe.mt.ce.ar5</th>  <td>   -0.0046</td> <td>    0.005</td> <td>   -0.854</td> <td> 0.393</td> <td>   -0.015</td> <td>    0.006</td>\n",
       "</tr>\n",
       "<tr>\n",
       "  <th>en.ghg.ch4.ic.mt.ce.ar5</th>  <td>    0.0036</td> <td>    0.011</td> <td>    0.317</td> <td> 0.751</td> <td>   -0.019</td> <td>    0.026</td>\n",
       "</tr>\n",
       "<tr>\n",
       "  <th>en.ghg.ch4.mt.ce.ar5</th>     <td>   -0.0123</td> <td>    0.005</td> <td>   -2.398</td> <td> 0.017</td> <td>   -0.022</td> <td>   -0.002</td>\n",
       "</tr>\n",
       "<tr>\n",
       "  <th>en.ghg.ch4.pi.mt.ce.ar5</th>  <td>   -0.0088</td> <td>    0.007</td> <td>   -1.249</td> <td> 0.212</td> <td>   -0.023</td> <td>    0.005</td>\n",
       "</tr>\n",
       "<tr>\n",
       "  <th>en.ghg.ch4.tr.mt.ce.ar5</th>  <td>   -0.0024</td> <td>    0.004</td> <td>   -0.658</td> <td> 0.510</td> <td>   -0.010</td> <td>    0.005</td>\n",
       "</tr>\n",
       "<tr>\n",
       "  <th>en.ghg.ch4.wa.mt.ce.ar5</th>  <td>   -0.0036</td> <td>    0.004</td> <td>   -0.852</td> <td> 0.394</td> <td>   -0.012</td> <td>    0.005</td>\n",
       "</tr>\n",
       "<tr>\n",
       "  <th>en.ghg.co2.bu.mt.ce.ar5</th>  <td>   -0.0013</td> <td>    0.004</td> <td>   -0.318</td> <td> 0.751</td> <td>   -0.009</td> <td>    0.007</td>\n",
       "</tr>\n",
       "<tr>\n",
       "  <th>en.ghg.co2.ic.mt.ce.ar5</th>  <td>    0.0048</td> <td>    0.003</td> <td>    1.595</td> <td> 0.111</td> <td>   -0.001</td> <td>    0.011</td>\n",
       "</tr>\n",
       "<tr>\n",
       "  <th>en.ghg.co2.ip.mt.ce.ar5</th>  <td>   -0.0045</td> <td>    0.003</td> <td>   -1.453</td> <td> 0.147</td> <td>   -0.011</td> <td>    0.002</td>\n",
       "</tr>\n",
       "<tr>\n",
       "  <th>en.ghg.co2.lu.mt.ce.ar5</th>  <td>   -0.0044</td> <td>    0.005</td> <td>   -0.967</td> <td> 0.334</td> <td>   -0.013</td> <td>    0.005</td>\n",
       "</tr>\n",
       "<tr>\n",
       "  <th>en.ghg.co2.mt.ce.ar5</th>     <td>   -0.0096</td> <td>    0.007</td> <td>   -1.355</td> <td> 0.176</td> <td>   -0.023</td> <td>    0.004</td>\n",
       "</tr>\n",
       "<tr>\n",
       "  <th>en.ghg.co2.pi.mt.ce.ar5</th>  <td>   -0.0021</td> <td>    0.003</td> <td>   -0.654</td> <td> 0.513</td> <td>   -0.008</td> <td>    0.004</td>\n",
       "</tr>\n",
       "<tr>\n",
       "  <th>en.ghg.co2.tr.mt.ce.ar5</th>  <td>    0.0033</td> <td>    0.007</td> <td>    0.459</td> <td> 0.646</td> <td>   -0.011</td> <td>    0.017</td>\n",
       "</tr>\n",
       "<tr>\n",
       "  <th>en.ghg.fgas.ip.mt.ce.ar5</th> <td>   -0.0061</td> <td>    0.004</td> <td>   -1.660</td> <td> 0.097</td> <td>   -0.013</td> <td>    0.001</td>\n",
       "</tr>\n",
       "<tr>\n",
       "  <th>en.ghg.n2o.ag.mt.ce.ar5</th>  <td>   -0.0115</td> <td>    0.011</td> <td>   -1.044</td> <td> 0.297</td> <td>   -0.033</td> <td>    0.010</td>\n",
       "</tr>\n",
       "<tr>\n",
       "  <th>en.ghg.n2o.bu.mt.ce.ar5</th>  <td>   -0.0023</td> <td>    0.002</td> <td>   -0.961</td> <td> 0.337</td> <td>   -0.007</td> <td>    0.002</td>\n",
       "</tr>\n",
       "<tr>\n",
       "  <th>en.ghg.n2o.fe.mt.ce.ar5</th>  <td>    0.0011</td> <td>    0.004</td> <td>    0.289</td> <td> 0.773</td> <td>   -0.007</td> <td>    0.009</td>\n",
       "</tr>\n",
       "<tr>\n",
       "  <th>en.ghg.n2o.ic.mt.ce.ar5</th>  <td>    0.0003</td> <td>    0.008</td> <td>    0.042</td> <td> 0.966</td> <td>   -0.015</td> <td>    0.015</td>\n",
       "</tr>\n",
       "<tr>\n",
       "  <th>en.ghg.n2o.ip.mt.ce.ar5</th>  <td>    0.0058</td> <td>    0.004</td> <td>    1.423</td> <td> 0.155</td> <td>   -0.002</td> <td>    0.014</td>\n",
       "</tr>\n",
       "<tr>\n",
       "  <th>en.ghg.n2o.mt.ce.ar5</th>     <td>    0.0170</td> <td>    0.009</td> <td>    1.882</td> <td> 0.060</td> <td>   -0.001</td> <td>    0.035</td>\n",
       "</tr>\n",
       "<tr>\n",
       "  <th>en.ghg.n2o.pi.mt.ce.ar5</th>  <td>    0.0046</td> <td>    0.005</td> <td>    0.981</td> <td> 0.327</td> <td>   -0.005</td> <td>    0.014</td>\n",
       "</tr>\n",
       "<tr>\n",
       "  <th>en.ghg.n2o.tr.mt.ce.ar5</th>  <td>   -0.0071</td> <td>    0.003</td> <td>   -2.537</td> <td> 0.011</td> <td>   -0.013</td> <td>   -0.002</td>\n",
       "</tr>\n",
       "<tr>\n",
       "  <th>en.ghg.n2o.wa.mt.ce.ar5</th>  <td>    0.0013</td> <td>    0.002</td> <td>    0.603</td> <td> 0.546</td> <td>   -0.003</td> <td>    0.006</td>\n",
       "</tr>\n",
       "<tr>\n",
       "  <th>er.fsh.aqua.mt</th>           <td>    3.2111</td> <td>    3.664</td> <td>    0.876</td> <td> 0.381</td> <td>   -3.980</td> <td>   10.403</td>\n",
       "</tr>\n",
       "<tr>\n",
       "  <th>er.fsh.capt.mt</th>           <td>    3.2110</td> <td>    3.664</td> <td>    0.876</td> <td> 0.381</td> <td>   -3.980</td> <td>   10.403</td>\n",
       "</tr>\n",
       "<tr>\n",
       "  <th>er.fsh.prod.mt</th>           <td>   -3.2111</td> <td>    3.664</td> <td>   -0.876</td> <td> 0.381</td> <td>  -10.403</td> <td>    3.980</td>\n",
       "</tr>\n",
       "<tr>\n",
       "  <th>er.h2o.fwtl.k3</th>           <td>    0.0046</td> <td>    0.005</td> <td>    1.000</td> <td> 0.318</td> <td>   -0.004</td> <td>    0.014</td>\n",
       "</tr>\n",
       "<tr>\n",
       "  <th>er.h2o.intr.k3</th>           <td>    0.0160</td> <td>    0.011</td> <td>    1.390</td> <td> 0.165</td> <td>   -0.007</td> <td>    0.038</td>\n",
       "</tr>\n",
       "<tr>\n",
       "  <th>sp.pop.totl</th>              <td>-3.211e-08</td> <td> 5.56e-09</td> <td>   -5.774</td> <td> 0.000</td> <td> -4.3e-08</td> <td>-2.12e-08</td>\n",
       "</tr>\n",
       "<tr>\n",
       "  <th>cpi_value</th>                <td>    0.0003</td> <td>    0.000</td> <td>    1.764</td> <td> 0.078</td> <td>-3.88e-05</td> <td>    0.001</td>\n",
       "</tr>\n",
       "<tr>\n",
       "  <th>total_affected</th>           <td> 2.357e-07</td> <td> 1.16e-07</td> <td>    2.024</td> <td> 0.043</td> <td> 7.15e-09</td> <td> 4.64e-07</td>\n",
       "</tr>\n",
       "</table>\n",
       "<table class=\"simpletable\">\n",
       "<tr>\n",
       "  <th>Omnibus:</th>       <td>445.181</td> <th>  Durbin-Watson:     </th> <td>   0.463</td>\n",
       "</tr>\n",
       "<tr>\n",
       "  <th>Prob(Omnibus):</th> <td> 0.000</td>  <th>  Jarque-Bera (JB):  </th> <td>2932.581</td>\n",
       "</tr>\n",
       "<tr>\n",
       "  <th>Skew:</th>          <td> 2.160</td>  <th>  Prob(JB):          </th> <td>    0.00</td>\n",
       "</tr>\n",
       "<tr>\n",
       "  <th>Kurtosis:</th>      <td>10.666</td>  <th>  Cond. No.          </th> <td>1.99e+09</td>\n",
       "</tr>\n",
       "</table><br/><br/>Notes:<br/>[1] Standard Errors assume that the covariance matrix of the errors is correctly specified.<br/>[2] The condition number is large, 1.99e+09. This might indicate that there are<br/>strong multicollinearity or other numerical problems."
      ],
      "text/latex": [
       "\\begin{center}\n",
       "\\begin{tabular}{lclc}\n",
       "\\toprule\n",
<<<<<<< Updated upstream
       "\\textbf{Dep. Variable:}           & internally\\_displaced\\_persons & \\textbf{  R-squared:         } &     0.211   \\\\\n",
       "\\textbf{Model:}                   &              OLS               & \\textbf{  Adj. R-squared:    } &     0.171   \\\\\n",
       "\\textbf{Method:}                  &         Least Squares          & \\textbf{  F-statistic:       } &     5.252   \\\\\n",
       "\\textbf{Date:}                    &        Sat, 10 May 2025        & \\textbf{  Prob (F-statistic):} &  1.97e-23   \\\\\n",
       "\\textbf{Time:}                    &            17:44:03            & \\textbf{  Log-Likelihood:    } &   -14999.   \\\\\n",
       "\\textbf{No. Observations:}        &                909             & \\textbf{  AIC:               } & 3.009e+04   \\\\\n",
       "\\textbf{Df Residuals:}            &                864             & \\textbf{  BIC:               } & 3.030e+04   \\\\\n",
       "\\textbf{Df Model:}                &                 44             & \\textbf{                     } &             \\\\\n",
       "\\textbf{Covariance Type:}         &           nonrobust            & \\textbf{                     } &             \\\\\n",
=======
       "\\textbf{Dep. Variable:}           & total\\_idp\\_over\\_pop & \\textbf{  R-squared:         } &     0.123   \\\\\n",
       "\\textbf{Model:}                   &          OLS          & \\textbf{  Adj. R-squared:    } &     0.078   \\\\\n",
       "\\textbf{Method:}                  &     Least Squares     & \\textbf{  F-statistic:       } &     2.742   \\\\\n",
       "\\textbf{Date:}                    &    Thu, 08 May 2025   & \\textbf{  Prob (F-statistic):} &  2.36e-08   \\\\\n",
       "\\textbf{Time:}                    &        17:47:54       & \\textbf{  Log-Likelihood:    } &   -3380.1   \\\\\n",
       "\\textbf{No. Observations:}        &            909        & \\textbf{  AIC:               } &     6850.   \\\\\n",
       "\\textbf{Df Residuals:}            &            864        & \\textbf{  BIC:               } &     7067.   \\\\\n",
       "\\textbf{Df Model:}                &             44        & \\textbf{                     } &             \\\\\n",
       "\\textbf{Covariance Type:}         &       nonrobust       & \\textbf{                     } &             \\\\\n",
>>>>>>> Stashed changes
       "\\bottomrule\n",
       "\\end{tabular}\n",
       "\\begin{tabular}{lcccccc}\n",
       "                                  & \\textbf{coef} & \\textbf{std err} & \\textbf{t} & \\textbf{P$> |$t$|$} & \\textbf{[0.025} & \\textbf{0.975]}  \\\\\n",
       "\\midrule\n",
       "\\textbf{const}                    &      11.7941  &        8.491     &     1.389  &         0.165        &       -4.871    &       28.459     \\\\\n",
       "\\textbf{ag.lnd.frst.k2}           &    3.897e-05  &     1.59e-05     &     2.444  &         0.015        &     7.67e-06    &     7.03e-05     \\\\\n",
       "\\textbf{ag.lnd.prcp.mm}           &      -0.0014  &        0.003     &    -0.401  &         0.688        &       -0.008    &        0.005     \\\\\n",
       "\\textbf{ag.lnd.totl.k2}           &       0.0002  &        0.000     &     1.446  &         0.149        &    -5.98e-05    &        0.000     \\\\\n",
       "\\textbf{ag.srf.totl.k2}           &      -0.0002  &        0.000     &    -1.509  &         0.132        &       -0.000    &     5.17e-05     \\\\\n",
       "\\textbf{eg.cft.accs.ru.zs}        &       0.0087  &        0.221     &     0.039  &         0.969        &       -0.426    &        0.443     \\\\\n",
       "\\textbf{eg.cft.accs.ur.zs}        &      -0.1416  &        0.100     &    -1.416  &         0.157        &       -0.338    &        0.055     \\\\\n",
       "\\textbf{eg.cft.accs.zs}           &       0.2266  &        0.286     &     0.793  &         0.428        &       -0.334    &        0.787     \\\\\n",
       "\\textbf{eg.egy.prim.pp.kd}        &      -0.5172  &        0.402     &    -1.286  &         0.199        &       -1.307    &        0.272     \\\\\n",
       "\\textbf{eg.elc.accs.zs}           &      -0.0009  &        0.057     &    -0.015  &         0.988        &       -0.112    &        0.111     \\\\\n",
       "\\textbf{eg.fec.rnew.zs}           &       0.0028  &        0.067     &     0.041  &         0.967        &       -0.130    &        0.135     \\\\\n",
       "\\textbf{en.ghg.all.mt.ce.ar5}     &       0.0216  &        0.005     &     4.060  &         0.000        &        0.011    &        0.032     \\\\\n",
       "\\textbf{en.ghg.ch4.ag.mt.ce.ar5}  &       0.0087  &        0.006     &     1.346  &         0.179        &       -0.004    &        0.021     \\\\\n",
       "\\textbf{en.ghg.ch4.bu.mt.ce.ar5}  &      -0.0012  &        0.003     &    -0.414  &         0.679        &       -0.007    &        0.005     \\\\\n",
       "\\textbf{en.ghg.ch4.fe.mt.ce.ar5}  &      -0.0046  &        0.005     &    -0.854  &         0.393        &       -0.015    &        0.006     \\\\\n",
       "\\textbf{en.ghg.ch4.ic.mt.ce.ar5}  &       0.0036  &        0.011     &     0.317  &         0.751        &       -0.019    &        0.026     \\\\\n",
       "\\textbf{en.ghg.ch4.mt.ce.ar5}     &      -0.0123  &        0.005     &    -2.398  &         0.017        &       -0.022    &       -0.002     \\\\\n",
       "\\textbf{en.ghg.ch4.pi.mt.ce.ar5}  &      -0.0088  &        0.007     &    -1.249  &         0.212        &       -0.023    &        0.005     \\\\\n",
       "\\textbf{en.ghg.ch4.tr.mt.ce.ar5}  &      -0.0024  &        0.004     &    -0.658  &         0.510        &       -0.010    &        0.005     \\\\\n",
       "\\textbf{en.ghg.ch4.wa.mt.ce.ar5}  &      -0.0036  &        0.004     &    -0.852  &         0.394        &       -0.012    &        0.005     \\\\\n",
       "\\textbf{en.ghg.co2.bu.mt.ce.ar5}  &      -0.0013  &        0.004     &    -0.318  &         0.751        &       -0.009    &        0.007     \\\\\n",
       "\\textbf{en.ghg.co2.ic.mt.ce.ar5}  &       0.0048  &        0.003     &     1.595  &         0.111        &       -0.001    &        0.011     \\\\\n",
       "\\textbf{en.ghg.co2.ip.mt.ce.ar5}  &      -0.0045  &        0.003     &    -1.453  &         0.147        &       -0.011    &        0.002     \\\\\n",
       "\\textbf{en.ghg.co2.lu.mt.ce.ar5}  &      -0.0044  &        0.005     &    -0.967  &         0.334        &       -0.013    &        0.005     \\\\\n",
       "\\textbf{en.ghg.co2.mt.ce.ar5}     &      -0.0096  &        0.007     &    -1.355  &         0.176        &       -0.023    &        0.004     \\\\\n",
       "\\textbf{en.ghg.co2.pi.mt.ce.ar5}  &      -0.0021  &        0.003     &    -0.654  &         0.513        &       -0.008    &        0.004     \\\\\n",
       "\\textbf{en.ghg.co2.tr.mt.ce.ar5}  &       0.0033  &        0.007     &     0.459  &         0.646        &       -0.011    &        0.017     \\\\\n",
       "\\textbf{en.ghg.fgas.ip.mt.ce.ar5} &      -0.0061  &        0.004     &    -1.660  &         0.097        &       -0.013    &        0.001     \\\\\n",
       "\\textbf{en.ghg.n2o.ag.mt.ce.ar5}  &      -0.0115  &        0.011     &    -1.044  &         0.297        &       -0.033    &        0.010     \\\\\n",
       "\\textbf{en.ghg.n2o.bu.mt.ce.ar5}  &      -0.0023  &        0.002     &    -0.961  &         0.337        &       -0.007    &        0.002     \\\\\n",
       "\\textbf{en.ghg.n2o.fe.mt.ce.ar5}  &       0.0011  &        0.004     &     0.289  &         0.773        &       -0.007    &        0.009     \\\\\n",
       "\\textbf{en.ghg.n2o.ic.mt.ce.ar5}  &       0.0003  &        0.008     &     0.042  &         0.966        &       -0.015    &        0.015     \\\\\n",
       "\\textbf{en.ghg.n2o.ip.mt.ce.ar5}  &       0.0058  &        0.004     &     1.423  &         0.155        &       -0.002    &        0.014     \\\\\n",
       "\\textbf{en.ghg.n2o.mt.ce.ar5}     &       0.0170  &        0.009     &     1.882  &         0.060        &       -0.001    &        0.035     \\\\\n",
       "\\textbf{en.ghg.n2o.pi.mt.ce.ar5}  &       0.0046  &        0.005     &     0.981  &         0.327        &       -0.005    &        0.014     \\\\\n",
       "\\textbf{en.ghg.n2o.tr.mt.ce.ar5}  &      -0.0071  &        0.003     &    -2.537  &         0.011        &       -0.013    &       -0.002     \\\\\n",
       "\\textbf{en.ghg.n2o.wa.mt.ce.ar5}  &       0.0013  &        0.002     &     0.603  &         0.546        &       -0.003    &        0.006     \\\\\n",
       "\\textbf{er.fsh.aqua.mt}           &       3.2111  &        3.664     &     0.876  &         0.381        &       -3.980    &       10.403     \\\\\n",
       "\\textbf{er.fsh.capt.mt}           &       3.2110  &        3.664     &     0.876  &         0.381        &       -3.980    &       10.403     \\\\\n",
       "\\textbf{er.fsh.prod.mt}           &      -3.2111  &        3.664     &    -0.876  &         0.381        &      -10.403    &        3.980     \\\\\n",
       "\\textbf{er.h2o.fwtl.k3}           &       0.0046  &        0.005     &     1.000  &         0.318        &       -0.004    &        0.014     \\\\\n",
       "\\textbf{er.h2o.intr.k3}           &       0.0160  &        0.011     &     1.390  &         0.165        &       -0.007    &        0.038     \\\\\n",
       "\\textbf{sp.pop.totl}              &   -3.211e-08  &     5.56e-09     &    -5.774  &         0.000        &     -4.3e-08    &    -2.12e-08     \\\\\n",
       "\\textbf{cpi\\_value}               &       0.0003  &        0.000     &     1.764  &         0.078        &    -3.88e-05    &        0.001     \\\\\n",
       "\\textbf{total\\_affected}          &    2.357e-07  &     1.16e-07     &     2.024  &         0.043        &     7.15e-09    &     4.64e-07     \\\\\n",
       "\\bottomrule\n",
       "\\end{tabular}\n",
       "\\begin{tabular}{lclc}\n",
       "\\textbf{Omnibus:}       & 445.181 & \\textbf{  Durbin-Watson:     } &    0.463  \\\\\n",
       "\\textbf{Prob(Omnibus):} &   0.000 & \\textbf{  Jarque-Bera (JB):  } & 2932.581  \\\\\n",
       "\\textbf{Skew:}          &   2.160 & \\textbf{  Prob(JB):          } &     0.00  \\\\\n",
       "\\textbf{Kurtosis:}      &  10.666 & \\textbf{  Cond. No.          } & 1.99e+09  \\\\\n",
       "\\bottomrule\n",
       "\\end{tabular}\n",
       "%\\caption{OLS Regression Results}\n",
       "\\end{center}\n",
       "\n",
       "Notes: \\newline\n",
       " [1] Standard Errors assume that the covariance matrix of the errors is correctly specified. \\newline\n",
       " [2] The condition number is large, 1.99e+09. This might indicate that there are \\newline\n",
       " strong multicollinearity or other numerical problems."
      ],
      "text/plain": [
       "<class 'statsmodels.iolib.summary.Summary'>\n",
       "\"\"\"\n",
<<<<<<< Updated upstream
       "                                 OLS Regression Results                                 \n",
       "========================================================================================\n",
       "Dep. Variable:     internally_displaced_persons   R-squared:                       0.211\n",
       "Model:                                      OLS   Adj. R-squared:                  0.171\n",
       "Method:                           Least Squares   F-statistic:                     5.252\n",
       "Date:                          Sat, 10 May 2025   Prob (F-statistic):           1.97e-23\n",
       "Time:                                  17:44:03   Log-Likelihood:                -14999.\n",
       "No. Observations:                           909   AIC:                         3.009e+04\n",
       "Df Residuals:                               864   BIC:                         3.030e+04\n",
       "Df Model:                                    44                                         \n",
       "Covariance Type:                      nonrobust                                         \n",
=======
       "                            OLS Regression Results                            \n",
       "==============================================================================\n",
       "Dep. Variable:     total_idp_over_pop   R-squared:                       0.123\n",
       "Model:                            OLS   Adj. R-squared:                  0.078\n",
       "Method:                 Least Squares   F-statistic:                     2.742\n",
       "Date:                Thu, 08 May 2025   Prob (F-statistic):           2.36e-08\n",
       "Time:                        17:47:54   Log-Likelihood:                -3380.1\n",
       "No. Observations:                 909   AIC:                             6850.\n",
       "Df Residuals:                     864   BIC:                             7067.\n",
       "Df Model:                          44                                         \n",
       "Covariance Type:            nonrobust                                         \n",
>>>>>>> Stashed changes
       "============================================================================================\n",
       "                               coef    std err          t      P>|t|      [0.025      0.975]\n",
       "--------------------------------------------------------------------------------------------\n",
       "const                       11.7941      8.491      1.389      0.165      -4.871      28.459\n",
       "ag.lnd.frst.k2            3.897e-05   1.59e-05      2.444      0.015    7.67e-06    7.03e-05\n",
       "ag.lnd.prcp.mm              -0.0014      0.003     -0.401      0.688      -0.008       0.005\n",
       "ag.lnd.totl.k2               0.0002      0.000      1.446      0.149   -5.98e-05       0.000\n",
       "ag.srf.totl.k2              -0.0002      0.000     -1.509      0.132      -0.000    5.17e-05\n",
       "eg.cft.accs.ru.zs            0.0087      0.221      0.039      0.969      -0.426       0.443\n",
       "eg.cft.accs.ur.zs           -0.1416      0.100     -1.416      0.157      -0.338       0.055\n",
       "eg.cft.accs.zs               0.2266      0.286      0.793      0.428      -0.334       0.787\n",
       "eg.egy.prim.pp.kd           -0.5172      0.402     -1.286      0.199      -1.307       0.272\n",
       "eg.elc.accs.zs              -0.0009      0.057     -0.015      0.988      -0.112       0.111\n",
       "eg.fec.rnew.zs               0.0028      0.067      0.041      0.967      -0.130       0.135\n",
       "en.ghg.all.mt.ce.ar5         0.0216      0.005      4.060      0.000       0.011       0.032\n",
       "en.ghg.ch4.ag.mt.ce.ar5      0.0087      0.006      1.346      0.179      -0.004       0.021\n",
       "en.ghg.ch4.bu.mt.ce.ar5     -0.0012      0.003     -0.414      0.679      -0.007       0.005\n",
       "en.ghg.ch4.fe.mt.ce.ar5     -0.0046      0.005     -0.854      0.393      -0.015       0.006\n",
       "en.ghg.ch4.ic.mt.ce.ar5      0.0036      0.011      0.317      0.751      -0.019       0.026\n",
       "en.ghg.ch4.mt.ce.ar5        -0.0123      0.005     -2.398      0.017      -0.022      -0.002\n",
       "en.ghg.ch4.pi.mt.ce.ar5     -0.0088      0.007     -1.249      0.212      -0.023       0.005\n",
       "en.ghg.ch4.tr.mt.ce.ar5     -0.0024      0.004     -0.658      0.510      -0.010       0.005\n",
       "en.ghg.ch4.wa.mt.ce.ar5     -0.0036      0.004     -0.852      0.394      -0.012       0.005\n",
       "en.ghg.co2.bu.mt.ce.ar5     -0.0013      0.004     -0.318      0.751      -0.009       0.007\n",
       "en.ghg.co2.ic.mt.ce.ar5      0.0048      0.003      1.595      0.111      -0.001       0.011\n",
       "en.ghg.co2.ip.mt.ce.ar5     -0.0045      0.003     -1.453      0.147      -0.011       0.002\n",
       "en.ghg.co2.lu.mt.ce.ar5     -0.0044      0.005     -0.967      0.334      -0.013       0.005\n",
       "en.ghg.co2.mt.ce.ar5        -0.0096      0.007     -1.355      0.176      -0.023       0.004\n",
       "en.ghg.co2.pi.mt.ce.ar5     -0.0021      0.003     -0.654      0.513      -0.008       0.004\n",
       "en.ghg.co2.tr.mt.ce.ar5      0.0033      0.007      0.459      0.646      -0.011       0.017\n",
       "en.ghg.fgas.ip.mt.ce.ar5    -0.0061      0.004     -1.660      0.097      -0.013       0.001\n",
       "en.ghg.n2o.ag.mt.ce.ar5     -0.0115      0.011     -1.044      0.297      -0.033       0.010\n",
       "en.ghg.n2o.bu.mt.ce.ar5     -0.0023      0.002     -0.961      0.337      -0.007       0.002\n",
       "en.ghg.n2o.fe.mt.ce.ar5      0.0011      0.004      0.289      0.773      -0.007       0.009\n",
       "en.ghg.n2o.ic.mt.ce.ar5      0.0003      0.008      0.042      0.966      -0.015       0.015\n",
       "en.ghg.n2o.ip.mt.ce.ar5      0.0058      0.004      1.423      0.155      -0.002       0.014\n",
       "en.ghg.n2o.mt.ce.ar5         0.0170      0.009      1.882      0.060      -0.001       0.035\n",
       "en.ghg.n2o.pi.mt.ce.ar5      0.0046      0.005      0.981      0.327      -0.005       0.014\n",
       "en.ghg.n2o.tr.mt.ce.ar5     -0.0071      0.003     -2.537      0.011      -0.013      -0.002\n",
       "en.ghg.n2o.wa.mt.ce.ar5      0.0013      0.002      0.603      0.546      -0.003       0.006\n",
       "er.fsh.aqua.mt               3.2111      3.664      0.876      0.381      -3.980      10.403\n",
       "er.fsh.capt.mt               3.2110      3.664      0.876      0.381      -3.980      10.403\n",
       "er.fsh.prod.mt              -3.2111      3.664     -0.876      0.381     -10.403       3.980\n",
       "er.h2o.fwtl.k3               0.0046      0.005      1.000      0.318      -0.004       0.014\n",
       "er.h2o.intr.k3               0.0160      0.011      1.390      0.165      -0.007       0.038\n",
       "sp.pop.totl              -3.211e-08   5.56e-09     -5.774      0.000    -4.3e-08   -2.12e-08\n",
       "cpi_value                    0.0003      0.000      1.764      0.078   -3.88e-05       0.001\n",
       "total_affected            2.357e-07   1.16e-07      2.024      0.043    7.15e-09    4.64e-07\n",
       "==============================================================================\n",
       "Omnibus:                      445.181   Durbin-Watson:                   0.463\n",
       "Prob(Omnibus):                  0.000   Jarque-Bera (JB):             2932.581\n",
       "Skew:                           2.160   Prob(JB):                         0.00\n",
       "Kurtosis:                      10.666   Cond. No.                     1.99e+09\n",
       "==============================================================================\n",
       "\n",
       "Notes:\n",
       "[1] Standard Errors assume that the covariance matrix of the errors is correctly specified.\n",
       "[2] The condition number is large, 1.99e+09. This might indicate that there are\n",
       "strong multicollinearity or other numerical problems.\n",
       "\"\"\""
      ]
     },
<<<<<<< Updated upstream
     "execution_count": 10,
=======
     "execution_count": 9,
>>>>>>> Stashed changes
     "metadata": {},
     "output_type": "execute_result"
    }
   ],
   "source": [
    "env_factors = [\n",
    "'ag.lnd.frst.k2', 'ag.lnd.prcp.mm',\n",
    "       'ag.lnd.totl.k2', 'ag.srf.totl.k2', 'eg.cft.accs.ru.zs',\n",
    "       'eg.cft.accs.ur.zs', 'eg.cft.accs.zs', 'eg.egy.prim.pp.kd',\n",
    "       'eg.elc.accs.zs', 'eg.fec.rnew.zs', 'en.ghg.all.mt.ce.ar5',\n",
    "       'en.ghg.ch4.ag.mt.ce.ar5', 'en.ghg.ch4.bu.mt.ce.ar5',\n",
    "       'en.ghg.ch4.fe.mt.ce.ar5', 'en.ghg.ch4.ic.mt.ce.ar5',\n",
    "       'en.ghg.ch4.mt.ce.ar5', 'en.ghg.ch4.pi.mt.ce.ar5',\n",
    "       'en.ghg.ch4.tr.mt.ce.ar5', 'en.ghg.ch4.wa.mt.ce.ar5',\n",
    "       'en.ghg.co2.bu.mt.ce.ar5', 'en.ghg.co2.ic.mt.ce.ar5',\n",
    "       'en.ghg.co2.ip.mt.ce.ar5', 'en.ghg.co2.lu.mt.ce.ar5',\n",
    "       'en.ghg.co2.mt.ce.ar5', 'en.ghg.co2.pi.mt.ce.ar5',\n",
    "       'en.ghg.co2.tr.mt.ce.ar5', 'en.ghg.fgas.ip.mt.ce.ar5',\n",
    "       'en.ghg.n2o.ag.mt.ce.ar5', 'en.ghg.n2o.bu.mt.ce.ar5',\n",
    "       'en.ghg.n2o.fe.mt.ce.ar5', 'en.ghg.n2o.ic.mt.ce.ar5',\n",
    "       'en.ghg.n2o.ip.mt.ce.ar5', 'en.ghg.n2o.mt.ce.ar5',\n",
    "       'en.ghg.n2o.pi.mt.ce.ar5', 'en.ghg.n2o.tr.mt.ce.ar5',\n",
    "       'en.ghg.n2o.wa.mt.ce.ar5', 'er.fsh.aqua.mt', 'er.fsh.capt.mt',\n",
    "       'er.fsh.prod.mt', 'er.h2o.fwtl.k3', 'er.h2o.intr.k3', 'sp.pop.totl',\n",
    "       'cpi_value', 'total_affected']\n",
    "\n",
    "#impute mean to nas in env_factors\n",
    "\n",
    "for col in env_factors:\n",
    "       if col == 'total_affected':\n",
    "              df[col].fillna(0, inplace=True)\n",
    "       else:\n",
    "              df[col].fillna(df[col].mean(), inplace=True)\n",
    "\n",
    "# Drop rows with missing values in the selected columns\n",
    "df_clean = df\n",
    "\n",
    "# Define independent (X) and dependent (y) variables\n",
    "X = df_clean[env_factors]  # Environmental factors\n",
    "y = df_clean[\"total_idp_over_pop\"]  # Displacement\n",
    "\n",
    "# Add a constant term for the regression model\n",
    "X = sm.add_constant(X)\n",
    "\n",
    "# Fit the regression model\n",
    "model = sm.OLS(y, X).fit()\n",
    "\n",
    "# Display model summary\n",
    "model.summary()\n"
   ]
  },
  {
   "cell_type": "markdown",
   "id": "5949eb02",
   "metadata": {},
   "source": [
    "#### OLS Regression"
   ]
  },
  {
   "cell_type": "code",
<<<<<<< Updated upstream
   "execution_count": 11,
=======
   "execution_count": 10,
>>>>>>> Stashed changes
   "id": "035f7938",
   "metadata": {},
   "outputs": [
    {
     "data": {
      "text/plain": [
<<<<<<< Updated upstream
       "(2444481.8900927, 0.07131616426679233)"
      ]
     },
     "execution_count": 11,
=======
       "(6.883382782656842, 0.057346857118993566)"
      ]
     },
     "execution_count": 10,
>>>>>>> Stashed changes
     "metadata": {},
     "output_type": "execute_result"
    }
   ],
   "source": [
    "# Split data into training (80%) and testing (20%) sets\n",
    "X_train, X_test, y_train, y_test = train_test_split(X, y, test_size=0.2, random_state=42)\n",
    "\n",
    "# Train the regression model on the training set\n",
    "model_train = sm.OLS(y_train, X_train).fit()\n",
    "\n",
    "# Predict on the test set\n",
    "y_pred = model_train.predict(X_test)\n",
    "\n",
    "# Evaluate model performance\n",
    "mae = mean_absolute_error(y_test, y_pred)\n",
    "r2 = r2_score(y_test, y_pred)\n",
    "\n",
    "mae, r2"
   ]
  },
  {
   "cell_type": "markdown",
   "id": "845df32a",
   "metadata": {},
   "source": [
    "#### Cross Validation for the OLS Model:\n",
    "- First intent with K fold\n",
    "- Note for fixing:  Do cross validation in the proportion of affected / total"
   ]
  },
  {
   "cell_type": "code",
<<<<<<< Updated upstream
   "execution_count": 12,
=======
   "execution_count": 16,
>>>>>>> Stashed changes
   "id": "656f5c9b",
   "metadata": {},
   "outputs": [
    {
     "name": "stdout",
     "output_type": "stream",
     "text": [
<<<<<<< Updated upstream
      "Cross-validation MAE: 2509150.3177 ± 309703.9148\n",
      "Cross-validation R²: 0.1106 ± 0.1586\n"
=======
      "Cross-validation MAE: 7.2381 ± 0.7491\n",
      "Cross-validation R²: 0.0017 ± 0.0910\n"
>>>>>>> Stashed changes
     ]
    }
   ],
   "source": [
    "# 1. Set up K-Fold cross-validation\n",
    "k = 10\n",
    "kf = KFold(n_splits=k, shuffle=True, random_state=42)\n",
    "\n",
    "# 2. Initialize lists to store metrics\n",
    "mae_scores = []\n",
    "r2_scores = []\n",
    "\n",
    "# 3. Perform manual cross-validation with statsmodels\n",
    "for train_index, test_index in kf.split(X):\n",
    "    # Split data for this fold\n",
    "    X_train_fold, X_test_fold = X.iloc[train_index], X.iloc[test_index]\n",
    "    y_train_fold, y_test_fold = y.iloc[train_index], y.iloc[test_index]\n",
    "    \n",
    "    # Train statsmodels OLS\n",
    "    model_fold = sm.OLS(y_train_fold, X_train_fold).fit()\n",
    "    \n",
    "    # Make predictions\n",
    "    y_pred_fold = model_fold.predict(X_test_fold)\n",
    "    \n",
    "    # Calculate and store performance metrics\n",
    "    mae = mean_absolute_error(y_test_fold, y_pred_fold)\n",
    "    r2 = r2_score(y_test_fold, y_pred_fold)\n",
    "    \n",
    "    mae_scores.append(mae)\n",
    "    r2_scores.append(r2)\n",
    "\n",
    "# 4. Calculate average performance\n",
    "avg_mae = np.mean(mae_scores)\n",
    "avg_r2 = np.mean(r2_scores)\n",
    "std_mae = np.std(mae_scores)\n",
    "std_r2 = np.std(r2_scores)\n",
    "\n",
    "print(f\"Cross-validation MAE: {avg_mae:.4f} ± {std_mae:.4f}\")\n",
    "print(f\"Cross-validation R²: {avg_r2:.4f} ± {std_r2:.4f}\")"
   ]
  },
  {
   "cell_type": "markdown",
   "id": "1b4b99a0",
   "metadata": {},
   "source": [
    "#### Random Forest Model"
   ]
  },
  {
   "cell_type": "code",
<<<<<<< Updated upstream
   "execution_count": 13,
=======
   "execution_count": 17,
>>>>>>> Stashed changes
   "id": "82395d3c",
   "metadata": {},
   "outputs": [
    {
     "data": {
      "text/plain": [
       "(2.91576277104081, 0.5977882920084021)"
      ]
     },
<<<<<<< Updated upstream
     "execution_count": 13,
=======
     "execution_count": 17,
>>>>>>> Stashed changes
     "metadata": {},
     "output_type": "execute_result"
    }
   ],
   "source": [
    "# Convert categorical variables to numerical using one-hot encoding\n",
    "df_encoded = pd.get_dummies(df_clean.drop(columns=[\"total_idp_over_pop\"]), drop_first=True)\n",
    "\n",
    "# Fill missing values with the median\n",
    "#df_encoded = df_encoded.fillna(df_encoded.median(numeric_only=True))\n",
    "#y_filled = df[\"internally_displaced_persons\"]\n",
    "\n",
    "# Split into train and test sets\n",
    "X_train_rf, X_test_rf, y_train_rf, y_test_rf = train_test_split(df_encoded[env_factors], y, test_size=0.2, random_state=42)\n",
    "\n",
    "# Initialize and train the Random Forest model\n",
    "rf_model = RandomForestRegressor(n_estimators=100, random_state=42)\n",
    "rf_model.fit(X_train_rf, y_train_rf)\n",
    "\n",
    "# Predict on test set\n",
    "y_pred_rf = rf_model.predict(X_test_rf)\n",
    "\n",
    "# Evaluate model performance\n",
    "mae_rf = mean_absolute_error(y_test_rf, y_pred_rf)\n",
    "r2_rf = r2_score(y_test_rf, y_pred_rf)\n",
    "\n",
    "mae_rf, r2_rf"
   ]
  },
  {
   "cell_type": "markdown",
   "id": "7a5dc0fa",
   "metadata": {},
   "source": [
    "#### Cross Validation for the Random Forest Model"
   ]
  },
  {
   "cell_type": "code",
<<<<<<< Updated upstream
   "execution_count": 14,
=======
   "execution_count": 18,
>>>>>>> Stashed changes
   "id": "df0fc5e6",
   "metadata": {},
   "outputs": [
    {
     "name": "stdout",
     "output_type": "stream",
     "text": [
      "Cross-validation MAE: 3.7298 ± 0.5348\n",
      "Cross-validation R²: 0.4594 ± 0.1041\n"
     ]
    }
   ],
   "source": [
    "# Setup K-fold cross-validation\n",
    "k = 5  # adjust?? i think this is already pretty solid\n",
    "kf = KFold(n_splits=k, shuffle=True, random_state=42)\n",
    "\n",
    "# Initialize the Random Forest model\n",
    "rf_model = RandomForestRegressor(n_estimators=100, random_state=42)\n",
    "\n",
    "# Prepare data\n",
    "X = df_encoded[env_factors]\n",
    "y = y\n",
    "\n",
    "# Initialize lists to store performance metrics\n",
    "mae_scores = []\n",
    "r2_scores = []\n",
    "\n",
    "# Perform cross-validation\n",
    "for train_index, test_index in kf.split(X):\n",
    "    # Split data for this fold\n",
    "    X_train_fold, X_test_fold = X.iloc[train_index], X.iloc[test_index]\n",
    "    y_train_fold, y_test_fold = y.iloc[train_index], y.iloc[test_index]\n",
    "    \n",
    "    # Train model\n",
    "    rf_model.fit(X_train_fold, y_train_fold)\n",
    "    \n",
    "    # Make predictions\n",
    "    y_pred_fold = rf_model.predict(X_test_fold)\n",
    "    \n",
    "    # Calculate and store performance metrics\n",
    "    mae = mean_absolute_error(y_test_fold, y_pred_fold)\n",
    "    r2 = r2_score(y_test_fold, y_pred_fold)\n",
    "    \n",
    "    mae_scores.append(mae)\n",
    "    r2_scores.append(r2)\n",
    "\n",
    "# Calculate average performance\n",
    "avg_mae = np.mean(mae_scores)\n",
    "avg_r2 = np.mean(r2_scores)\n",
    "std_mae = np.std(mae_scores)\n",
    "std_r2 = np.std(r2_scores)\n",
    "\n",
    "print(f\"Cross-validation MAE: {avg_mae:.4f} ± {std_mae:.4f}\")\n",
    "print(f\"Cross-validation R²: {avg_r2:.4f} ± {std_r2:.4f}\")"
   ]
  },
  {
   "cell_type": "code",
<<<<<<< Updated upstream
   "execution_count": 15,
=======
   "execution_count": 19,
>>>>>>> Stashed changes
   "id": "e64c0a26",
   "metadata": {},
   "outputs": [],
   "source": [
    "# Ridge doesn't take NAs, so we nede to impute them. The highest NAs we have are in variables that are about climate catastrophes, \n",
    "# where where we have them it means that there was NO climate catastrophe, so we can impute a 0 to them.\n",
    "\n",
    "df_encoded.isna().sum().sort_values(ascending=False).head(20)\n",
    "# impute a 0 to all the nas in the encoded df\n",
    "df_encoded = df_encoded.fillna(0)\n",
    "\n",
    "# Prepare data\n",
    "X = df_encoded[env_factors]\n",
    "y = y"
   ]
  },
  {
   "cell_type": "markdown",
   "id": "5348e7e1",
   "metadata": {},
   "source": [
    "#### Cross Validation for Ridge"
   ]
  },
  {
   "cell_type": "code",
<<<<<<< Updated upstream
   "execution_count": 16,
=======
   "execution_count": 15,
>>>>>>> Stashed changes
   "id": "e0d5f1fc",
   "metadata": {},
   "outputs": [
    {
     "name": "stdout",
     "output_type": "stream",
     "text": [
      "Ridge Cross-validation Results (with Pipeline):\n",
      "Cross-validation MAE: 8.0446 ± 1.6879\n",
      "Cross-validation R²: -0.7142 ± 1.1490\n"
     ]
    }
   ],
   "source": [
    "# Create a pipeline that first standardizes, then applies Ridge regression\n",
    "ridge_pipeline = Pipeline([\n",
    "    ('scaler', StandardScaler()),\n",
    "    ('ridge', Ridge(alpha=1.0))\n",
    "])\n",
    "\n",
    "# Create scorers\n",
    "mae_scorer = make_scorer(mean_absolute_error, greater_is_better=False)\n",
    "r2_scorer = make_scorer(r2_score)\n",
    "\n",
    "# Run cross-validation with the pipeline\n",
    "ridge_mae_scores = -cross_val_score(ridge_pipeline, X, y, cv=5, scoring=mae_scorer)\n",
    "ridge_r2_scores = cross_val_score(ridge_pipeline, X, y, cv=5, scoring=r2_scorer)\n",
    "\n",
    "print(\"Ridge Cross-validation Results (with Pipeline):\")\n",
    "print(f\"Cross-validation MAE: {ridge_mae_scores.mean():.4f} ± {ridge_mae_scores.std():.4f}\")\n",
    "print(f\"Cross-validation R²: {ridge_r2_scores.mean():.4f} ± {ridge_r2_scores.std():.4f}\")"
   ]
  },
  {
   "cell_type": "code",
<<<<<<< Updated upstream
   "execution_count": 17,
   "id": "88b12cf0",
   "metadata": {},
   "outputs": [
    {
     "name": "stderr",
     "output_type": "stream",
     "text": [
      "/Applications/anaconda3/envs/ml2025/lib/python3.11/site-packages/sklearn/linear_model/_coordinate_descent.py:695: ConvergenceWarning: Objective did not converge. You might want to increase the number of iterations, check the scale of the features or consider increasing regularisation. Duality gap: 4.631e+15, tolerance: 1.178e+12\n",
      "  model = cd_fast.enet_coordinate_descent(\n",
      "/Applications/anaconda3/envs/ml2025/lib/python3.11/site-packages/sklearn/linear_model/_coordinate_descent.py:695: ConvergenceWarning: Objective did not converge. You might want to increase the number of iterations, check the scale of the features or consider increasing regularisation. Duality gap: 4.229e+15, tolerance: 1.203e+12\n",
      "  model = cd_fast.enet_coordinate_descent(\n",
      "/Applications/anaconda3/envs/ml2025/lib/python3.11/site-packages/sklearn/linear_model/_coordinate_descent.py:695: ConvergenceWarning: Objective did not converge. You might want to increase the number of iterations, check the scale of the features or consider increasing regularisation. Duality gap: 5.147e+15, tolerance: 1.320e+12\n",
      "  model = cd_fast.enet_coordinate_descent(\n",
      "/Applications/anaconda3/envs/ml2025/lib/python3.11/site-packages/sklearn/linear_model/_coordinate_descent.py:695: ConvergenceWarning: Objective did not converge. You might want to increase the number of iterations, check the scale of the features or consider increasing regularisation. Duality gap: 3.992e+15, tolerance: 9.439e+11\n",
      "  model = cd_fast.enet_coordinate_descent(\n",
      "/Applications/anaconda3/envs/ml2025/lib/python3.11/site-packages/sklearn/linear_model/_coordinate_descent.py:695: ConvergenceWarning: Objective did not converge. You might want to increase the number of iterations, check the scale of the features or consider increasing regularisation. Duality gap: 4.102e+15, tolerance: 1.089e+12\n",
      "  model = cd_fast.enet_coordinate_descent(\n",
      "/Applications/anaconda3/envs/ml2025/lib/python3.11/site-packages/sklearn/linear_model/_coordinate_descent.py:695: ConvergenceWarning: Objective did not converge. You might want to increase the number of iterations, check the scale of the features or consider increasing regularisation. Duality gap: 4.631e+15, tolerance: 1.178e+12\n",
      "  model = cd_fast.enet_coordinate_descent(\n",
      "/Applications/anaconda3/envs/ml2025/lib/python3.11/site-packages/sklearn/linear_model/_coordinate_descent.py:695: ConvergenceWarning: Objective did not converge. You might want to increase the number of iterations, check the scale of the features or consider increasing regularisation. Duality gap: 4.229e+15, tolerance: 1.203e+12\n",
      "  model = cd_fast.enet_coordinate_descent(\n",
      "/Applications/anaconda3/envs/ml2025/lib/python3.11/site-packages/sklearn/linear_model/_coordinate_descent.py:695: ConvergenceWarning: Objective did not converge. You might want to increase the number of iterations, check the scale of the features or consider increasing regularisation. Duality gap: 5.147e+15, tolerance: 1.320e+12\n",
      "  model = cd_fast.enet_coordinate_descent(\n",
      "/Applications/anaconda3/envs/ml2025/lib/python3.11/site-packages/sklearn/linear_model/_coordinate_descent.py:695: ConvergenceWarning: Objective did not converge. You might want to increase the number of iterations, check the scale of the features or consider increasing regularisation. Duality gap: 3.992e+15, tolerance: 9.439e+11\n",
      "  model = cd_fast.enet_coordinate_descent(\n",
      "/Applications/anaconda3/envs/ml2025/lib/python3.11/site-packages/sklearn/linear_model/_coordinate_descent.py:695: ConvergenceWarning: Objective did not converge. You might want to increase the number of iterations, check the scale of the features or consider increasing regularisation. Duality gap: 4.102e+15, tolerance: 1.089e+12\n",
      "  model = cd_fast.enet_coordinate_descent(\n"
     ]
=======
   "execution_count": 24,
   "id": "e9ddb298",
   "metadata": {},
   "outputs": [],
   "source": [
    "# make table comparing the models\n",
    "\n",
    "results = pd.DataFrame({\n",
    "    'Model': ['OLS', 'Random Forest', 'Ridge'],\n",
    "    'MAE': [avg_mae, mae_rf, ridge_mae_scores.mean()],\n",
    "    'R²': [avg_r2, r2_rf, ridge_r2_scores.mean()]\n",
    "})\n",
    "results['MAE'] = results['MAE'].round(2)\n",
    "results['R²'] = results['R²'].round(2)"
   ]
  },
  {
   "cell_type": "code",
   "execution_count": 25,
   "id": "6c9dc694",
   "metadata": {},
   "outputs": [
    {
     "data": {
      "application/vnd.microsoft.datawrangler.viewer.v0+json": {
       "columns": [
        {
         "name": "index",
         "rawType": "int64",
         "type": "integer"
        },
        {
         "name": "Model",
         "rawType": "object",
         "type": "string"
        },
        {
         "name": "MAE",
         "rawType": "float64",
         "type": "float"
        },
        {
         "name": "R²",
         "rawType": "float64",
         "type": "float"
        }
       ],
       "conversionMethod": "pd.DataFrame",
       "ref": "ef1e5652-3273-4d08-8d92-ff31b658e1f3",
       "rows": [
        [
         "0",
         "OLS",
         "3.73",
         "0.46"
        ],
        [
         "1",
         "Random Forest",
         "2.92",
         "0.6"
        ],
        [
         "2",
         "Ridge",
         "8.04",
         "-0.71"
        ]
       ],
       "shape": {
        "columns": 3,
        "rows": 3
       }
      },
      "text/html": [
       "<div>\n",
       "<style scoped>\n",
       "    .dataframe tbody tr th:only-of-type {\n",
       "        vertical-align: middle;\n",
       "    }\n",
       "\n",
       "    .dataframe tbody tr th {\n",
       "        vertical-align: top;\n",
       "    }\n",
       "\n",
       "    .dataframe thead th {\n",
       "        text-align: right;\n",
       "    }\n",
       "</style>\n",
       "<table border=\"1\" class=\"dataframe\">\n",
       "  <thead>\n",
       "    <tr style=\"text-align: right;\">\n",
       "      <th></th>\n",
       "      <th>Model</th>\n",
       "      <th>MAE</th>\n",
       "      <th>R²</th>\n",
       "    </tr>\n",
       "  </thead>\n",
       "  <tbody>\n",
       "    <tr>\n",
       "      <th>0</th>\n",
       "      <td>OLS</td>\n",
       "      <td>3.73</td>\n",
       "      <td>0.46</td>\n",
       "    </tr>\n",
       "    <tr>\n",
       "      <th>1</th>\n",
       "      <td>Random Forest</td>\n",
       "      <td>2.92</td>\n",
       "      <td>0.60</td>\n",
       "    </tr>\n",
       "    <tr>\n",
       "      <th>2</th>\n",
       "      <td>Ridge</td>\n",
       "      <td>8.04</td>\n",
       "      <td>-0.71</td>\n",
       "    </tr>\n",
       "  </tbody>\n",
       "</table>\n",
       "</div>"
      ],
      "text/plain": [
       "           Model   MAE    R²\n",
       "0            OLS  3.73  0.46\n",
       "1  Random Forest  2.92  0.60\n",
       "2          Ridge  8.04 -0.71"
      ]
     },
     "execution_count": 25,
     "metadata": {},
     "output_type": "execute_result"
    }
   ],
   "source": [
    "results"
   ]
  },
  {
   "cell_type": "code",
   "execution_count": 16,
   "id": "502f22a8",
   "metadata": {},
   "outputs": [
    {
     "data": {
      "text/plain": [
       "['models/rf_model.pkl']"
      ]
     },
     "execution_count": 16,
     "metadata": {},
     "output_type": "execute_result"
>>>>>>> Stashed changes
    }
   ],
   "source": [
    "# create a pipeline that first standardizes, then applies Lasso regression\n",
    "lasso_pipeline = Pipeline([\n",
    "    ('scaler', StandardScaler()),\n",
    "    ('lasso', Lasso(alpha=0.1))\n",
    "])\n",
    "\n",
    "# scorers\n",
    "lasso_mae_scorer = make_scorer(mean_absolute_error, greater_is_better=False)\n",
    "lasso_r2_scorer = make_scorer(r2_score)\n",
    "\n",
    "# Run cross-validation with the pipeline\n",
    "lasso_mae_scores = -cross_val_score(lasso_pipeline, X, y, cv=5, scoring=lasso_mae_scorer)\n",
    "lasso_r2_scores = cross_val_score(lasso_pipeline, X, y, cv=5, scoring=lasso_r2_scorer)"
   ]
  }
 ],
 "metadata": {
  "kernelspec": {
   "display_name": "ml2025",
   "language": "python",
   "name": "python3"
  },
  "language_info": {
   "codemirror_mode": {
    "name": "ipython",
    "version": 3
   },
   "file_extension": ".py",
   "mimetype": "text/x-python",
   "name": "python",
   "nbconvert_exporter": "python",
   "pygments_lexer": "ipython3",
   "version": "3.11.8"
  }
 },
 "nbformat": 4,
 "nbformat_minor": 5
}
