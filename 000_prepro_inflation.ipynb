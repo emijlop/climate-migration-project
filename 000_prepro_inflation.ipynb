{
 "cells": [
  {
   "cell_type": "code",
   "execution_count": 1,
   "metadata": {},
   "outputs": [],
   "source": [
    "import pandas as pd\n",
    "import re"
   ]
  },
  {
   "cell_type": "code",
   "execution_count": 2,
   "metadata": {},
   "outputs": [],
   "source": [
    "df = pd.read_csv('data/economic/inflation_full.csv')"
   ]
  },
  {
   "cell_type": "code",
   "execution_count": 3,
   "metadata": {},
   "outputs": [
    {
     "data": {
      "text/plain": [
       "Index(['Country Name', 'Country Code', 'Indicator Name', 'Indicator Code',\n",
       "       '1960', '1961', '1962', '1963', '1964', '1965', '1966', '1967', '1968',\n",
       "       '1969', '1970', '1971', '1972', '1973', '1974', '1975', '1976', '1977',\n",
       "       '1978', '1979', '1980', '1981', '1982', '1983', '1984', '1985', '1986',\n",
       "       '1987', '1988', '1989', '1990', '1991', '1992', '1993', '1994', '1995',\n",
       "       '1996', '1997', '1998', '1999', '2000', '2001', '2002', '2003', '2004',\n",
       "       '2005', '2006', '2007', '2008', '2009', '2010', '2011', '2012', '2013',\n",
       "       '2014', '2015', '2016', '2017', '2018', '2019', '2020', '2021', '2022',\n",
       "       '2023'],\n",
       "      dtype='object')"
      ]
     },
     "execution_count": 3,
     "metadata": {},
     "output_type": "execute_result"
    }
   ],
   "source": [
    "df.columns"
   ]
  },
  {
   "cell_type": "code",
   "execution_count": 4,
   "metadata": {},
   "outputs": [],
   "source": [
    "df = df.melt(id_vars = ['Country Name', 'Country Code', 'Indicator Name', 'Indicator Code'],\n",
    "             var_name = 'year', value_name = 'cpi_value')"
   ]
  },
  {
   "cell_type": "code",
   "execution_count": 5,
   "metadata": {},
   "outputs": [
    {
     "data": {
      "application/vnd.microsoft.datawrangler.viewer.v0+json": {
       "columns": [
        {
         "name": "index",
         "rawType": "int64",
         "type": "integer"
        },
        {
         "name": "Country Name",
         "rawType": "object",
         "type": "string"
        },
        {
         "name": "Country Code",
         "rawType": "object",
         "type": "string"
        },
        {
         "name": "Indicator Name",
         "rawType": "object",
         "type": "string"
        },
        {
         "name": "Indicator Code",
         "rawType": "object",
         "type": "string"
        },
        {
         "name": "year",
         "rawType": "object",
         "type": "string"
        },
        {
         "name": "cpi_value",
         "rawType": "float64",
         "type": "float"
        }
       ],
       "conversionMethod": "pd.DataFrame",
       "ref": "27f41a41-d730-4e2d-a14d-64f9c8a1849f",
       "rows": [
        [
         "0",
         "Aruba",
         "ABW",
         "Consumer price index (2010 = 100)",
         "FP.CPI.TOTL",
         "1960",
         null
        ],
        [
         "1",
         "Africa Eastern and Southern",
         "AFE",
         "Consumer price index (2010 = 100)",
         "FP.CPI.TOTL",
         "1960",
         null
        ],
        [
         "2",
         "Afghanistan",
         "AFG",
         "Consumer price index (2010 = 100)",
         "FP.CPI.TOTL",
         "1960",
         null
        ],
        [
         "3",
         "Africa Western and Central",
         "AFW",
         "Consumer price index (2010 = 100)",
         "FP.CPI.TOTL",
         "1960",
         null
        ],
        [
         "4",
         "Angola",
         "AGO",
         "Consumer price index (2010 = 100)",
         "FP.CPI.TOTL",
         "1960",
         null
        ],
        [
         "5",
         "Albania",
         "ALB",
         "Consumer price index (2010 = 100)",
         "FP.CPI.TOTL",
         "1960",
         null
        ],
        [
         "6",
         "Andorra",
         "AND",
         "Consumer price index (2010 = 100)",
         "FP.CPI.TOTL",
         "1960",
         null
        ],
        [
         "7",
         "Arab World",
         "ARB",
         "Consumer price index (2010 = 100)",
         "FP.CPI.TOTL",
         "1960",
         null
        ],
        [
         "8",
         "United Arab Emirates",
         "ARE",
         "Consumer price index (2010 = 100)",
         "FP.CPI.TOTL",
         "1960",
         null
        ],
        [
         "9",
         "Argentina",
         "ARG",
         "Consumer price index (2010 = 100)",
         "FP.CPI.TOTL",
         "1960",
         null
        ],
        [
         "10",
         "Armenia",
         "ARM",
         "Consumer price index (2010 = 100)",
         "FP.CPI.TOTL",
         "1960",
         null
        ],
        [
         "11",
         "American Samoa",
         "ASM",
         "Consumer price index (2010 = 100)",
         "FP.CPI.TOTL",
         "1960",
         null
        ],
        [
         "12",
         "Antigua and Barbuda",
         "ATG",
         "Consumer price index (2010 = 100)",
         "FP.CPI.TOTL",
         "1960",
         null
        ],
        [
         "13",
         "Australia",
         "AUS",
         "Consumer price index (2010 = 100)",
         "FP.CPI.TOTL",
         "1960",
         "7.960457856"
        ],
        [
         "14",
         "Austria",
         "AUT",
         "Consumer price index (2010 = 100)",
         "FP.CPI.TOTL",
         "1960",
         "17.82416674"
        ],
        [
         "15",
         "Azerbaijan",
         "AZE",
         "Consumer price index (2010 = 100)",
         "FP.CPI.TOTL",
         "1960",
         null
        ],
        [
         "16",
         "Burundi",
         "BDI",
         "Consumer price index (2010 = 100)",
         "FP.CPI.TOTL",
         "1960",
         null
        ],
        [
         "17",
         "Belgium",
         "BEL",
         "Consumer price index (2010 = 100)",
         "FP.CPI.TOTL",
         "1960",
         "15.59608125"
        ],
        [
         "18",
         "Benin",
         "BEN",
         "Consumer price index (2010 = 100)",
         "FP.CPI.TOTL",
         "1960",
         null
        ],
        [
         "19",
         "Burkina Faso",
         "BFA",
         "Consumer price index (2010 = 100)",
         "FP.CPI.TOTL",
         "1960",
         "10.71330051"
        ],
        [
         "20",
         "Bangladesh",
         "BGD",
         "Consumer price index (2010 = 100)",
         "FP.CPI.TOTL",
         "1960",
         null
        ],
        [
         "21",
         "Bulgaria",
         "BGR",
         "Consumer price index (2010 = 100)",
         "FP.CPI.TOTL",
         "1960",
         null
        ],
        [
         "22",
         "Bahrain",
         "BHR",
         "Consumer price index (2010 = 100)",
         "FP.CPI.TOTL",
         "1960",
         null
        ],
        [
         "23",
         "Bahamas, The",
         "BHS",
         "Consumer price index (2010 = 100)",
         "FP.CPI.TOTL",
         "1960",
         null
        ],
        [
         "24",
         "Bosnia and Herzegovina",
         "BIH",
         "Consumer price index (2010 = 100)",
         "FP.CPI.TOTL",
         "1960",
         null
        ],
        [
         "25",
         "Belarus",
         "BLR",
         "Consumer price index (2010 = 100)",
         "FP.CPI.TOTL",
         "1960",
         null
        ],
        [
         "26",
         "Belize",
         "BLZ",
         "Consumer price index (2010 = 100)",
         "FP.CPI.TOTL",
         "1960",
         null
        ],
        [
         "27",
         "Bermuda",
         "BMU",
         "Consumer price index (2010 = 100)",
         "FP.CPI.TOTL",
         "1960",
         null
        ],
        [
         "28",
         "Bolivia",
         "BOL",
         "Consumer price index (2010 = 100)",
         "FP.CPI.TOTL",
         "1960",
         "2.24e-05"
        ],
        [
         "29",
         "Brazil",
         "BRA",
         "Consumer price index (2010 = 100)",
         "FP.CPI.TOTL",
         "1960",
         null
        ],
        [
         "30",
         "Barbados",
         "BRB",
         "Consumer price index (2010 = 100)",
         "FP.CPI.TOTL",
         "1960",
         null
        ],
        [
         "31",
         "Brunei Darussalam",
         "BRN",
         "Consumer price index (2010 = 100)",
         "FP.CPI.TOTL",
         "1960",
         null
        ],
        [
         "32",
         "Bhutan",
         "BTN",
         "Consumer price index (2010 = 100)",
         "FP.CPI.TOTL",
         "1960",
         null
        ],
        [
         "33",
         "Botswana",
         "BWA",
         "Consumer price index (2010 = 100)",
         "FP.CPI.TOTL",
         "1960",
         null
        ],
        [
         "34",
         "Central African Republic",
         "CAF",
         "Consumer price index (2010 = 100)",
         "FP.CPI.TOTL",
         "1960",
         null
        ],
        [
         "35",
         "Canada",
         "CAN",
         "Consumer price index (2010 = 100)",
         "FP.CPI.TOTL",
         "1960",
         "13.34430452"
        ],
        [
         "36",
         "Central Europe and the Baltics",
         "CEB",
         "Consumer price index (2010 = 100)",
         "FP.CPI.TOTL",
         "1960",
         null
        ],
        [
         "37",
         "Switzerland",
         "CHE",
         "Consumer price index (2010 = 100)",
         "FP.CPI.TOTL",
         "1960",
         "24.04119116"
        ],
        [
         "38",
         "Channel Islands",
         "CHI",
         "Consumer price index (2010 = 100)",
         "FP.CPI.TOTL",
         "1960",
         null
        ],
        [
         "39",
         "Chile",
         "CHL",
         "Consumer price index (2010 = 100)",
         "FP.CPI.TOTL",
         "1960",
         null
        ],
        [
         "40",
         "China",
         "CHN",
         "Consumer price index (2010 = 100)",
         "FP.CPI.TOTL",
         "1960",
         null
        ],
        [
         "41",
         "Cote d'Ivoire",
         "CIV",
         "Consumer price index (2010 = 100)",
         "FP.CPI.TOTL",
         "1960",
         "5.558836943"
        ],
        [
         "42",
         "Cameroon",
         "CMR",
         "Consumer price index (2010 = 100)",
         "FP.CPI.TOTL",
         "1960",
         null
        ],
        [
         "43",
         "Congo, Dem. Rep.",
         "COD",
         "Consumer price index (2010 = 100)",
         "FP.CPI.TOTL",
         "1960",
         null
        ],
        [
         "44",
         "Congo, Rep.",
         "COG",
         "Consumer price index (2010 = 100)",
         "FP.CPI.TOTL",
         "1960",
         null
        ],
        [
         "45",
         "Colombia",
         "COL",
         "Consumer price index (2010 = 100)",
         "FP.CPI.TOTL",
         "1960",
         "0.057306653"
        ],
        [
         "46",
         "Comoros",
         "COM",
         "Consumer price index (2010 = 100)",
         "FP.CPI.TOTL",
         "1960",
         null
        ],
        [
         "47",
         "Cabo Verde",
         "CPV",
         "Consumer price index (2010 = 100)",
         "FP.CPI.TOTL",
         "1960",
         null
        ],
        [
         "48",
         "Costa Rica",
         "CRI",
         "Consumer price index (2010 = 100)",
         "FP.CPI.TOTL",
         "1960",
         "0.249178864"
        ],
        [
         "49",
         "Caribbean small states",
         "CSS",
         "Consumer price index (2010 = 100)",
         "FP.CPI.TOTL",
         "1960",
         null
        ]
       ],
       "shape": {
        "columns": 6,
        "rows": 17024
       }
      },
      "text/html": [
       "<div>\n",
       "<style scoped>\n",
       "    .dataframe tbody tr th:only-of-type {\n",
       "        vertical-align: middle;\n",
       "    }\n",
       "\n",
       "    .dataframe tbody tr th {\n",
       "        vertical-align: top;\n",
       "    }\n",
       "\n",
       "    .dataframe thead th {\n",
       "        text-align: right;\n",
       "    }\n",
       "</style>\n",
       "<table border=\"1\" class=\"dataframe\">\n",
       "  <thead>\n",
       "    <tr style=\"text-align: right;\">\n",
       "      <th></th>\n",
       "      <th>Country Name</th>\n",
       "      <th>Country Code</th>\n",
       "      <th>Indicator Name</th>\n",
       "      <th>Indicator Code</th>\n",
       "      <th>year</th>\n",
       "      <th>cpi_value</th>\n",
       "    </tr>\n",
       "  </thead>\n",
       "  <tbody>\n",
       "    <tr>\n",
       "      <th>0</th>\n",
       "      <td>Aruba</td>\n",
       "      <td>ABW</td>\n",
       "      <td>Consumer price index (2010 = 100)</td>\n",
       "      <td>FP.CPI.TOTL</td>\n",
       "      <td>1960</td>\n",
       "      <td>NaN</td>\n",
       "    </tr>\n",
       "    <tr>\n",
       "      <th>1</th>\n",
       "      <td>Africa Eastern and Southern</td>\n",
       "      <td>AFE</td>\n",
       "      <td>Consumer price index (2010 = 100)</td>\n",
       "      <td>FP.CPI.TOTL</td>\n",
       "      <td>1960</td>\n",
       "      <td>NaN</td>\n",
       "    </tr>\n",
       "    <tr>\n",
       "      <th>2</th>\n",
       "      <td>Afghanistan</td>\n",
       "      <td>AFG</td>\n",
       "      <td>Consumer price index (2010 = 100)</td>\n",
       "      <td>FP.CPI.TOTL</td>\n",
       "      <td>1960</td>\n",
       "      <td>NaN</td>\n",
       "    </tr>\n",
       "    <tr>\n",
       "      <th>3</th>\n",
       "      <td>Africa Western and Central</td>\n",
       "      <td>AFW</td>\n",
       "      <td>Consumer price index (2010 = 100)</td>\n",
       "      <td>FP.CPI.TOTL</td>\n",
       "      <td>1960</td>\n",
       "      <td>NaN</td>\n",
       "    </tr>\n",
       "    <tr>\n",
       "      <th>4</th>\n",
       "      <td>Angola</td>\n",
       "      <td>AGO</td>\n",
       "      <td>Consumer price index (2010 = 100)</td>\n",
       "      <td>FP.CPI.TOTL</td>\n",
       "      <td>1960</td>\n",
       "      <td>NaN</td>\n",
       "    </tr>\n",
       "    <tr>\n",
       "      <th>...</th>\n",
       "      <td>...</td>\n",
       "      <td>...</td>\n",
       "      <td>...</td>\n",
       "      <td>...</td>\n",
       "      <td>...</td>\n",
       "      <td>...</td>\n",
       "    </tr>\n",
       "    <tr>\n",
       "      <th>17019</th>\n",
       "      <td>Kosovo</td>\n",
       "      <td>XKX</td>\n",
       "      <td>Consumer price index (2010 = 100)</td>\n",
       "      <td>FP.CPI.TOTL</td>\n",
       "      <td>2023</td>\n",
       "      <td>143.171601</td>\n",
       "    </tr>\n",
       "    <tr>\n",
       "      <th>17020</th>\n",
       "      <td>Yemen, Rep.</td>\n",
       "      <td>YEM</td>\n",
       "      <td>Consumer price index (2010 = 100)</td>\n",
       "      <td>FP.CPI.TOTL</td>\n",
       "      <td>2023</td>\n",
       "      <td>NaN</td>\n",
       "    </tr>\n",
       "    <tr>\n",
       "      <th>17021</th>\n",
       "      <td>South Africa</td>\n",
       "      <td>ZAF</td>\n",
       "      <td>Consumer price index (2010 = 100)</td>\n",
       "      <td>FP.CPI.TOTL</td>\n",
       "      <td>2023</td>\n",
       "      <td>194.839466</td>\n",
       "    </tr>\n",
       "    <tr>\n",
       "      <th>17022</th>\n",
       "      <td>Zambia</td>\n",
       "      <td>ZMB</td>\n",
       "      <td>Consumer price index (2010 = 100)</td>\n",
       "      <td>FP.CPI.TOTL</td>\n",
       "      <td>2023</td>\n",
       "      <td>369.000077</td>\n",
       "    </tr>\n",
       "    <tr>\n",
       "      <th>17023</th>\n",
       "      <td>Zimbabwe</td>\n",
       "      <td>ZWE</td>\n",
       "      <td>Consumer price index (2010 = 100)</td>\n",
       "      <td>FP.CPI.TOTL</td>\n",
       "      <td>2023</td>\n",
       "      <td>NaN</td>\n",
       "    </tr>\n",
       "  </tbody>\n",
       "</table>\n",
       "<p>17024 rows × 6 columns</p>\n",
       "</div>"
      ],
      "text/plain": [
       "                      Country Name Country Code  \\\n",
       "0                            Aruba          ABW   \n",
       "1      Africa Eastern and Southern          AFE   \n",
       "2                      Afghanistan          AFG   \n",
       "3       Africa Western and Central          AFW   \n",
       "4                           Angola          AGO   \n",
       "...                            ...          ...   \n",
       "17019                       Kosovo          XKX   \n",
       "17020                  Yemen, Rep.          YEM   \n",
       "17021                 South Africa          ZAF   \n",
       "17022                       Zambia          ZMB   \n",
       "17023                     Zimbabwe          ZWE   \n",
       "\n",
       "                          Indicator Name Indicator Code  year   cpi_value  \n",
       "0      Consumer price index (2010 = 100)    FP.CPI.TOTL  1960         NaN  \n",
       "1      Consumer price index (2010 = 100)    FP.CPI.TOTL  1960         NaN  \n",
       "2      Consumer price index (2010 = 100)    FP.CPI.TOTL  1960         NaN  \n",
       "3      Consumer price index (2010 = 100)    FP.CPI.TOTL  1960         NaN  \n",
       "4      Consumer price index (2010 = 100)    FP.CPI.TOTL  1960         NaN  \n",
       "...                                  ...            ...   ...         ...  \n",
       "17019  Consumer price index (2010 = 100)    FP.CPI.TOTL  2023  143.171601  \n",
       "17020  Consumer price index (2010 = 100)    FP.CPI.TOTL  2023         NaN  \n",
       "17021  Consumer price index (2010 = 100)    FP.CPI.TOTL  2023  194.839466  \n",
       "17022  Consumer price index (2010 = 100)    FP.CPI.TOTL  2023  369.000077  \n",
       "17023  Consumer price index (2010 = 100)    FP.CPI.TOTL  2023         NaN  \n",
       "\n",
       "[17024 rows x 6 columns]"
      ]
     },
     "execution_count": 5,
     "metadata": {},
     "output_type": "execute_result"
    }
   ],
   "source": [
    "df"
   ]
  },
  {
   "cell_type": "code",
   "execution_count": 6,
   "metadata": {},
   "outputs": [],
   "source": [
    "df = df[['Country Name','Country Code', 'year', 'cpi_value']]\n",
    "df.columns = ['country_name', 'country_code', 'year', 'cpi_value']"
   ]
  },
  {
   "cell_type": "code",
   "execution_count": 7,
   "metadata": {},
   "outputs": [
    {
     "data": {
      "application/vnd.microsoft.datawrangler.viewer.v0+json": {
       "columns": [
        {
         "name": "index",
         "rawType": "int64",
         "type": "integer"
        },
        {
         "name": "country_name",
         "rawType": "object",
         "type": "string"
        },
        {
         "name": "country_code",
         "rawType": "object",
         "type": "string"
        },
        {
         "name": "year",
         "rawType": "object",
         "type": "string"
        },
        {
         "name": "cpi_value",
         "rawType": "float64",
         "type": "float"
        }
       ],
       "conversionMethod": "pd.DataFrame",
       "ref": "2c53b408-c954-472e-8330-66d258917052",
       "rows": [
        [
         "0",
         "Aruba",
         "ABW",
         "1960",
         null
        ],
        [
         "1",
         "Africa Eastern and Southern",
         "AFE",
         "1960",
         null
        ],
        [
         "2",
         "Afghanistan",
         "AFG",
         "1960",
         null
        ],
        [
         "3",
         "Africa Western and Central",
         "AFW",
         "1960",
         null
        ],
        [
         "4",
         "Angola",
         "AGO",
         "1960",
         null
        ],
        [
         "5",
         "Albania",
         "ALB",
         "1960",
         null
        ],
        [
         "6",
         "Andorra",
         "AND",
         "1960",
         null
        ],
        [
         "7",
         "Arab World",
         "ARB",
         "1960",
         null
        ],
        [
         "8",
         "United Arab Emirates",
         "ARE",
         "1960",
         null
        ],
        [
         "9",
         "Argentina",
         "ARG",
         "1960",
         null
        ],
        [
         "10",
         "Armenia",
         "ARM",
         "1960",
         null
        ],
        [
         "11",
         "American Samoa",
         "ASM",
         "1960",
         null
        ],
        [
         "12",
         "Antigua and Barbuda",
         "ATG",
         "1960",
         null
        ],
        [
         "13",
         "Australia",
         "AUS",
         "1960",
         "7.960457856"
        ],
        [
         "14",
         "Austria",
         "AUT",
         "1960",
         "17.82416674"
        ],
        [
         "15",
         "Azerbaijan",
         "AZE",
         "1960",
         null
        ],
        [
         "16",
         "Burundi",
         "BDI",
         "1960",
         null
        ],
        [
         "17",
         "Belgium",
         "BEL",
         "1960",
         "15.59608125"
        ],
        [
         "18",
         "Benin",
         "BEN",
         "1960",
         null
        ],
        [
         "19",
         "Burkina Faso",
         "BFA",
         "1960",
         "10.71330051"
        ],
        [
         "20",
         "Bangladesh",
         "BGD",
         "1960",
         null
        ],
        [
         "21",
         "Bulgaria",
         "BGR",
         "1960",
         null
        ],
        [
         "22",
         "Bahrain",
         "BHR",
         "1960",
         null
        ],
        [
         "23",
         "Bahamas, The",
         "BHS",
         "1960",
         null
        ],
        [
         "24",
         "Bosnia and Herzegovina",
         "BIH",
         "1960",
         null
        ],
        [
         "25",
         "Belarus",
         "BLR",
         "1960",
         null
        ],
        [
         "26",
         "Belize",
         "BLZ",
         "1960",
         null
        ],
        [
         "27",
         "Bermuda",
         "BMU",
         "1960",
         null
        ],
        [
         "28",
         "Bolivia",
         "BOL",
         "1960",
         "2.24e-05"
        ],
        [
         "29",
         "Brazil",
         "BRA",
         "1960",
         null
        ],
        [
         "30",
         "Barbados",
         "BRB",
         "1960",
         null
        ],
        [
         "31",
         "Brunei Darussalam",
         "BRN",
         "1960",
         null
        ],
        [
         "32",
         "Bhutan",
         "BTN",
         "1960",
         null
        ],
        [
         "33",
         "Botswana",
         "BWA",
         "1960",
         null
        ],
        [
         "34",
         "Central African Republic",
         "CAF",
         "1960",
         null
        ],
        [
         "35",
         "Canada",
         "CAN",
         "1960",
         "13.34430452"
        ],
        [
         "36",
         "Central Europe and the Baltics",
         "CEB",
         "1960",
         null
        ],
        [
         "37",
         "Switzerland",
         "CHE",
         "1960",
         "24.04119116"
        ],
        [
         "38",
         "Channel Islands",
         "CHI",
         "1960",
         null
        ],
        [
         "39",
         "Chile",
         "CHL",
         "1960",
         null
        ],
        [
         "40",
         "China",
         "CHN",
         "1960",
         null
        ],
        [
         "41",
         "Cote d'Ivoire",
         "CIV",
         "1960",
         "5.558836943"
        ],
        [
         "42",
         "Cameroon",
         "CMR",
         "1960",
         null
        ],
        [
         "43",
         "Congo, Dem. Rep.",
         "COD",
         "1960",
         null
        ],
        [
         "44",
         "Congo, Rep.",
         "COG",
         "1960",
         null
        ],
        [
         "45",
         "Colombia",
         "COL",
         "1960",
         "0.057306653"
        ],
        [
         "46",
         "Comoros",
         "COM",
         "1960",
         null
        ],
        [
         "47",
         "Cabo Verde",
         "CPV",
         "1960",
         null
        ],
        [
         "48",
         "Costa Rica",
         "CRI",
         "1960",
         "0.249178864"
        ],
        [
         "49",
         "Caribbean small states",
         "CSS",
         "1960",
         null
        ]
       ],
       "shape": {
        "columns": 4,
        "rows": 17024
       }
      },
      "text/html": [
       "<div>\n",
       "<style scoped>\n",
       "    .dataframe tbody tr th:only-of-type {\n",
       "        vertical-align: middle;\n",
       "    }\n",
       "\n",
       "    .dataframe tbody tr th {\n",
       "        vertical-align: top;\n",
       "    }\n",
       "\n",
       "    .dataframe thead th {\n",
       "        text-align: right;\n",
       "    }\n",
       "</style>\n",
       "<table border=\"1\" class=\"dataframe\">\n",
       "  <thead>\n",
       "    <tr style=\"text-align: right;\">\n",
       "      <th></th>\n",
       "      <th>country_name</th>\n",
       "      <th>country_code</th>\n",
       "      <th>year</th>\n",
       "      <th>cpi_value</th>\n",
       "    </tr>\n",
       "  </thead>\n",
       "  <tbody>\n",
       "    <tr>\n",
       "      <th>0</th>\n",
       "      <td>Aruba</td>\n",
       "      <td>ABW</td>\n",
       "      <td>1960</td>\n",
       "      <td>NaN</td>\n",
       "    </tr>\n",
       "    <tr>\n",
       "      <th>1</th>\n",
       "      <td>Africa Eastern and Southern</td>\n",
       "      <td>AFE</td>\n",
       "      <td>1960</td>\n",
       "      <td>NaN</td>\n",
       "    </tr>\n",
       "    <tr>\n",
       "      <th>2</th>\n",
       "      <td>Afghanistan</td>\n",
       "      <td>AFG</td>\n",
       "      <td>1960</td>\n",
       "      <td>NaN</td>\n",
       "    </tr>\n",
       "    <tr>\n",
       "      <th>3</th>\n",
       "      <td>Africa Western and Central</td>\n",
       "      <td>AFW</td>\n",
       "      <td>1960</td>\n",
       "      <td>NaN</td>\n",
       "    </tr>\n",
       "    <tr>\n",
       "      <th>4</th>\n",
       "      <td>Angola</td>\n",
       "      <td>AGO</td>\n",
       "      <td>1960</td>\n",
       "      <td>NaN</td>\n",
       "    </tr>\n",
       "    <tr>\n",
       "      <th>...</th>\n",
       "      <td>...</td>\n",
       "      <td>...</td>\n",
       "      <td>...</td>\n",
       "      <td>...</td>\n",
       "    </tr>\n",
       "    <tr>\n",
       "      <th>17019</th>\n",
       "      <td>Kosovo</td>\n",
       "      <td>XKX</td>\n",
       "      <td>2023</td>\n",
       "      <td>143.171601</td>\n",
       "    </tr>\n",
       "    <tr>\n",
       "      <th>17020</th>\n",
       "      <td>Yemen, Rep.</td>\n",
       "      <td>YEM</td>\n",
       "      <td>2023</td>\n",
       "      <td>NaN</td>\n",
       "    </tr>\n",
       "    <tr>\n",
       "      <th>17021</th>\n",
       "      <td>South Africa</td>\n",
       "      <td>ZAF</td>\n",
       "      <td>2023</td>\n",
       "      <td>194.839466</td>\n",
       "    </tr>\n",
       "    <tr>\n",
       "      <th>17022</th>\n",
       "      <td>Zambia</td>\n",
       "      <td>ZMB</td>\n",
       "      <td>2023</td>\n",
       "      <td>369.000077</td>\n",
       "    </tr>\n",
       "    <tr>\n",
       "      <th>17023</th>\n",
       "      <td>Zimbabwe</td>\n",
       "      <td>ZWE</td>\n",
       "      <td>2023</td>\n",
       "      <td>NaN</td>\n",
       "    </tr>\n",
       "  </tbody>\n",
       "</table>\n",
       "<p>17024 rows × 4 columns</p>\n",
       "</div>"
      ],
      "text/plain": [
       "                      country_name country_code  year   cpi_value\n",
       "0                            Aruba          ABW  1960         NaN\n",
       "1      Africa Eastern and Southern          AFE  1960         NaN\n",
       "2                      Afghanistan          AFG  1960         NaN\n",
       "3       Africa Western and Central          AFW  1960         NaN\n",
       "4                           Angola          AGO  1960         NaN\n",
       "...                            ...          ...   ...         ...\n",
       "17019                       Kosovo          XKX  2023  143.171601\n",
       "17020                  Yemen, Rep.          YEM  2023         NaN\n",
       "17021                 South Africa          ZAF  2023  194.839466\n",
       "17022                       Zambia          ZMB  2023  369.000077\n",
       "17023                     Zimbabwe          ZWE  2023         NaN\n",
       "\n",
       "[17024 rows x 4 columns]"
      ]
     },
     "execution_count": 7,
     "metadata": {},
     "output_type": "execute_result"
    }
   ],
   "source": [
    "df"
   ]
  },
  {
   "cell_type": "code",
   "execution_count": 8,
   "metadata": {},
   "outputs": [],
   "source": [
    "df.to_csv('data/economic/inflation_all_countries_sorted_cleaned.csv', index = False)"
   ]
  },
  {
   "cell_type": "code",
   "execution_count": 9,
   "metadata": {},
   "outputs": [
    {
     "name": "stderr",
     "output_type": "stream",
     "text": [
      "C:\\Users\\LENOVO\\AppData\\Local\\Temp\\ipykernel_21512\\848927349.py:1: DeprecationWarning: DataFrameGroupBy.apply operated on the grouping columns. This behavior is deprecated, and in a future version of pandas the grouping columns will be excluded from the operation. Either pass `include_groups=False` to exclude the groupings or explicitly select the grouping columns after groupby to silence this warning.\n",
      "  nas_per_country = df.groupby('country_name').apply(lambda x: x.isna().sum())\n"
     ]
    }
   ],
   "source": [
    "nas_per_country = df.groupby('country_name').apply(lambda x: x.isna().sum())"
   ]
  },
  {
   "cell_type": "code",
   "execution_count": 10,
   "metadata": {},
   "outputs": [
    {
     "data": {
      "application/vnd.microsoft.datawrangler.viewer.v0+json": {
       "columns": [
        {
         "name": "country_name",
         "rawType": "object",
         "type": "string"
        },
        {
         "name": "country_name",
         "rawType": "int64",
         "type": "integer"
        },
        {
         "name": "country_code",
         "rawType": "int64",
         "type": "integer"
        },
        {
         "name": "year",
         "rawType": "int64",
         "type": "integer"
        },
        {
         "name": "cpi_value",
         "rawType": "int64",
         "type": "integer"
        }
       ],
       "conversionMethod": "pd.DataFrame",
       "ref": "2100dc1f-a72c-41ed-b47f-425e7035e1e0",
       "rows": [],
       "shape": {
        "columns": 4,
        "rows": 0
       }
      },
      "text/html": [
       "<div>\n",
       "<style scoped>\n",
       "    .dataframe tbody tr th:only-of-type {\n",
       "        vertical-align: middle;\n",
       "    }\n",
       "\n",
       "    .dataframe tbody tr th {\n",
       "        vertical-align: top;\n",
       "    }\n",
       "\n",
       "    .dataframe thead th {\n",
       "        text-align: right;\n",
       "    }\n",
       "</style>\n",
       "<table border=\"1\" class=\"dataframe\">\n",
       "  <thead>\n",
       "    <tr style=\"text-align: right;\">\n",
       "      <th></th>\n",
       "      <th>country_name</th>\n",
       "      <th>country_code</th>\n",
       "      <th>year</th>\n",
       "      <th>cpi_value</th>\n",
       "    </tr>\n",
       "    <tr>\n",
       "      <th>country_name</th>\n",
       "      <th></th>\n",
       "      <th></th>\n",
       "      <th></th>\n",
       "      <th></th>\n",
       "    </tr>\n",
       "  </thead>\n",
       "  <tbody>\n",
       "  </tbody>\n",
       "</table>\n",
       "</div>"
      ],
      "text/plain": [
       "Empty DataFrame\n",
       "Columns: [country_name, country_code, year, cpi_value]\n",
       "Index: []"
      ]
     },
     "execution_count": 10,
     "metadata": {},
     "output_type": "execute_result"
    }
   ],
   "source": [
    "nas_per_country[nas_per_country['country_code'] == 'SOM']"
   ]
  }
 ],
 "metadata": {
  "kernelspec": {
   "display_name": "hertie_climate_migration",
   "language": "python",
   "name": "python3"
  },
  "language_info": {
   "codemirror_mode": {
    "name": "ipython",
    "version": 3
   },
   "file_extension": ".py",
   "mimetype": "text/x-python",
   "name": "python",
   "nbconvert_exporter": "python",
   "pygments_lexer": "ipython3",
   "version": "3.9.21"
  }
 },
 "nbformat": 4,
 "nbformat_minor": 2
}
